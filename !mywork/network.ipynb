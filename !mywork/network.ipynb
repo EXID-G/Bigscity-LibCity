{
 "cells": [
  {
   "cell_type": "markdown",
   "metadata": {},
   "source": [
    "# Preparation"
   ]
  },
  {
   "cell_type": "code",
   "execution_count": 2,
   "metadata": {},
   "outputs": [],
   "source": [
    "import pandas as pd\n",
    "import networkx as nx\n",
    "import netwulf as nw\n"
   ]
  },
  {
   "cell_type": "code",
   "execution_count": 3,
   "metadata": {},
   "outputs": [
    {
     "data": {
      "text/plain": [
       "263"
      ]
     },
     "execution_count": 3,
     "metadata": {},
     "output_type": "execute_result"
    }
   ],
   "source": [
    "od_f = pd.read_csv(\"data/NYCTAXI_OD_f.csv\")\n",
    "\n",
    "# od_f[\"flow\"].value_counts()\n",
    "od_f[\"origin_id\"].nunique()"
   ]
  },
  {
   "cell_type": "code",
   "execution_count": 4,
   "metadata": {},
   "outputs": [],
   "source": [
    "# od_edge = od_f.loc[od_f[\"flow\"]>0, [\"origin_id\", \"destination_id\", \"flow\",\"cost\"]]\n",
    "# od_edge.reset_index(drop=True, inplace=True)\n",
    "# od_edge\n",
    "# od_edge.to_csv(\"data/NYCTAXI_OD_edge.csv\",index=False)"
   ]
  },
  {
   "cell_type": "markdown",
   "metadata": {},
   "source": [
    "# Construct network"
   ]
  },
  {
   "cell_type": "code",
   "execution_count": 7,
   "metadata": {},
   "outputs": [],
   "source": [
    "G = nx.DiGraph()\n",
    "for i, row in od_f.iterrows():\n",
    "    if row[\"flow\"] > 0:\n",
    "        G.add_edge(row[\"origin_id\"], row[\"destination_id\"], flow=row[\"flow\"], cost=row[\"cost\"])\n",
    "    else:\n",
    "        G.add_node(row[\"origin_id\"])\n",
    "        G.add_node(row[\"destination_id\"])"
   ]
  },
  {
   "cell_type": "code",
   "execution_count": 8,
   "metadata": {},
   "outputs": [],
   "source": [
    "nx.write_gexf(G, \"data/NYCTAXI_OD_f.gexf\")"
   ]
  },
  {
   "cell_type": "code",
   "execution_count": 5,
   "metadata": {},
   "outputs": [],
   "source": [
    "# G = nx.barabasi_albert_graph(100,m=1)\n",
    "# stylized_network, config = nw.visualize(G, plot_in_cell_below=False)\n",
    "# fig, ax = nw.draw_netwulf(stylized_network, figsize=(10,10))\n",
    "# plt.savefig(\"myfigure.pdf\")"
   ]
  },
  {
   "cell_type": "markdown",
   "metadata": {},
   "source": [
    "# Basic statistics"
   ]
  },
  {
   "cell_type": "code",
   "execution_count": 56,
   "metadata": {},
   "outputs": [],
   "source": [
    "# G.edges\n",
    "# G.get_edge_data(0.0, 137.0)"
   ]
  },
  {
   "cell_type": "code",
   "execution_count": 75,
   "metadata": {
    "notebookRunGroups": {
     "groupValue": "2"
    }
   },
   "outputs": [],
   "source": [
    "def get_network_statistics(G):\n",
    "    # 基本统计量\n",
    "    num_nodes = G.number_of_nodes()  # 节点数量\n",
    "    num_edges = G.number_of_edges()  # 边数量\n",
    "\n",
    "    # 平均度\n",
    "    avg_degree = sum(dict(G.degree()).values()) / num_nodes\n",
    "\n",
    "    in_degrees = [deg for node, deg in G.in_degree()]\n",
    "    out_degrees = [deg for node, deg in G.out_degree()]\n",
    "    avg_in_degree = sum(in_degrees) / len(in_degrees)\n",
    "    avg_out_degree = sum(out_degrees) / len(out_degrees)\n",
    "\n",
    "    # Hubs（度数最高的节点）\n",
    "    degree_dict = dict(G.degree())\n",
    "    hubs = [node for node, degree in degree_dict.items() if degree == max(degree_dict.values())]\n",
    "\n",
    "    # 最短路径长度\n",
    "    shortest_path_lengths = dict(nx.shortest_path_length(G))\n",
    "\n",
    "    # 直径（最长的最短路径长度）\n",
    "    try:\n",
    "        diameter = nx.diameter(G)\n",
    "    except:\n",
    "        diameter = \"Network is not connected.\"\n",
    "\n",
    "    return {\n",
    "        \"Number of nodes\": num_nodes,\n",
    "        \"Number of edges\": num_edges,\n",
    "        \"Average degree\": avg_degree,\n",
    "        \"Average inout-degree\": avg_in_degree,\n",
    "        \"Hubs\": hubs,\n",
    "        # \"Shortest path lengths\": shortest_path_lengths,\n",
    "        \"Diameter\": diameter\n",
    "    }"
   ]
  },
  {
   "cell_type": "code",
   "execution_count": 76,
   "metadata": {},
   "outputs": [
    {
     "name": "stdout",
     "output_type": "stream",
     "text": [
      "Number of nodes: 263\n",
      "Number of edges: 23340\n",
      "Average degree: 177.49049429657794\n",
      "Average inout-degree: 88.74524714828897\n",
      "Hubs: [136.0]\n",
      "Diameter: Network is not connected.\n"
     ]
    }
   ],
   "source": [
    "statistics = get_network_statistics(G)\n",
    "for key, value in statistics.items():\n",
    "    print(f\"{key}: {value}\")"
   ]
  },
  {
   "cell_type": "markdown",
   "metadata": {},
   "source": [
    "# Structure"
   ]
  },
  {
   "cell_type": "markdown",
   "metadata": {},
   "source": [
    "在有向图中，节点i的聚类系数定义为所有可能的有向三元组（即i -> j, j -> k, k -> i）的比例，其中j和k是i的邻居。一个有向三元组是一个节点对的有序三元组。\n",
    "\n",
    "nx.average_clustering()函数默认会将有向图视为无向图进行计算。如果你想要计算有向图的聚类系数，需要将count_zeros参数设置为False"
   ]
  },
  {
   "cell_type": "code",
   "execution_count": 79,
   "metadata": {},
   "outputs": [
    {
     "data": {
      "text/plain": [
       "0.6362071861121511"
      ]
     },
     "execution_count": 79,
     "metadata": {},
     "output_type": "execute_result"
    }
   ],
   "source": [
    "avg_clustering = nx.average_clustering(G, count_zeros=False)\n",
    "avg_clustering"
   ]
  }
 ],
 "metadata": {
  "kernelspec": {
   "display_name": "Python 3",
   "language": "python",
   "name": "python3"
  },
  "language_info": {
   "codemirror_mode": {
    "name": "ipython",
    "version": 3
   },
   "file_extension": ".py",
   "mimetype": "text/x-python",
   "name": "python",
   "nbconvert_exporter": "python",
   "pygments_lexer": "ipython3",
   "version": "3.11.5"
  }
 },
 "nbformat": 4,
 "nbformat_minor": 2
}

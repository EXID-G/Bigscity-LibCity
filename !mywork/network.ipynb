{
 "cells": [
  {
   "cell_type": "markdown",
   "metadata": {},
   "source": [
    "# Preparation"
   ]
  },
  {
   "cell_type": "code",
   "execution_count": 1,
   "metadata": {},
   "outputs": [],
   "source": [
    "import pandas as pd\n",
    "import networkx as nx\n",
    "import netwulf as nw\n",
    "import matplotlib.pyplot as plt\n",
    "import seaborn as sns\n"
   ]
  },
  {
   "cell_type": "code",
   "execution_count": 2,
   "metadata": {},
   "outputs": [
    {
     "data": {
      "text/html": [
       "<div>\n",
       "<style scoped>\n",
       "    .dataframe tbody tr th:only-of-type {\n",
       "        vertical-align: middle;\n",
       "    }\n",
       "\n",
       "    .dataframe tbody tr th {\n",
       "        vertical-align: top;\n",
       "    }\n",
       "\n",
       "    .dataframe thead th {\n",
       "        text-align: right;\n",
       "    }\n",
       "</style>\n",
       "<table border=\"1\" class=\"dataframe\">\n",
       "  <thead>\n",
       "    <tr style=\"text-align: right;\">\n",
       "      <th></th>\n",
       "      <th>rel_id</th>\n",
       "      <th>type</th>\n",
       "      <th>origin_id</th>\n",
       "      <th>destination_id</th>\n",
       "      <th>cost</th>\n",
       "    </tr>\n",
       "  </thead>\n",
       "  <tbody>\n",
       "    <tr>\n",
       "      <th>0</th>\n",
       "      <td>0</td>\n",
       "      <td>geo</td>\n",
       "      <td>0</td>\n",
       "      <td>0</td>\n",
       "      <td>0.0</td>\n",
       "    </tr>\n",
       "    <tr>\n",
       "      <th>1</th>\n",
       "      <td>1</td>\n",
       "      <td>geo</td>\n",
       "      <td>0</td>\n",
       "      <td>1</td>\n",
       "      <td>31349.0</td>\n",
       "    </tr>\n",
       "    <tr>\n",
       "      <th>2</th>\n",
       "      <td>2</td>\n",
       "      <td>geo</td>\n",
       "      <td>0</td>\n",
       "      <td>2</td>\n",
       "      <td>33747.0</td>\n",
       "    </tr>\n",
       "    <tr>\n",
       "      <th>3</th>\n",
       "      <td>3</td>\n",
       "      <td>geo</td>\n",
       "      <td>0</td>\n",
       "      <td>3</td>\n",
       "      <td>17205.0</td>\n",
       "    </tr>\n",
       "    <tr>\n",
       "      <th>4</th>\n",
       "      <td>4</td>\n",
       "      <td>geo</td>\n",
       "      <td>0</td>\n",
       "      <td>4</td>\n",
       "      <td>14927.0</td>\n",
       "    </tr>\n",
       "  </tbody>\n",
       "</table>\n",
       "</div>"
      ],
      "text/plain": [
       "   rel_id type  origin_id  destination_id     cost\n",
       "0       0  geo          0               0      0.0\n",
       "1       1  geo          0               1  31349.0\n",
       "2       2  geo          0               2  33747.0\n",
       "3       3  geo          0               3  17205.0\n",
       "4       4  geo          0               4  14927.0"
      ]
     },
     "execution_count": 2,
     "metadata": {},
     "output_type": "execute_result"
    }
   ],
   "source": [
    "rel = pd.read_csv(\"data/NYCTAXI202401-202403.rel\")\n",
    "rel.head()"
   ]
  },
  {
   "cell_type": "code",
   "execution_count": 3,
   "metadata": {},
   "outputs": [],
   "source": [
    "df_total = pd.read_csv(\"data/total/NYCTAXI_OD_Total.csv\")\n",
    "\n",
    "df_earlymorning = pd.read_csv(\"data/timeperiod/NYCTAXI_OD_Early Morning.csv\")\n",
    "df_morningrush = pd.read_csv(\"data/timeperiod/NYCTAXI_OD_Morning Rush.csv\")\n",
    "df_morningtonoon = pd.read_csv(\"data/timeperiod/NYCTAXI_OD_Morning to Noon.csv\")\n",
    "df_afternoon = pd.read_csv(\"data/timeperiod/NYCTAXI_OD_Afternoon.csv\")\n",
    "df_eveningrush = pd.read_csv(\"data/timeperiod/NYCTAXI_OD_Evening Rush.csv\")\n",
    "df_night = pd.read_csv(\"data/timeperiod/NYCTAXI_OD_Night.csv\")\n",
    "\n",
    "# df_total[\"flow\"].value_counts()\n",
    "# df_total[\"origin_id\"].nunique()"
   ]
  },
  {
   "cell_type": "code",
   "execution_count": 4,
   "metadata": {},
   "outputs": [
    {
     "data": {
      "text/html": [
       "<div>\n",
       "<style scoped>\n",
       "    .dataframe tbody tr th:only-of-type {\n",
       "        vertical-align: middle;\n",
       "    }\n",
       "\n",
       "    .dataframe tbody tr th {\n",
       "        vertical-align: top;\n",
       "    }\n",
       "\n",
       "    .dataframe thead th {\n",
       "        text-align: right;\n",
       "    }\n",
       "</style>\n",
       "<table border=\"1\" class=\"dataframe\">\n",
       "  <thead>\n",
       "    <tr style=\"text-align: right;\">\n",
       "      <th></th>\n",
       "      <th>origin_id</th>\n",
       "      <th>destination_id</th>\n",
       "      <th>flow</th>\n",
       "    </tr>\n",
       "  </thead>\n",
       "  <tbody>\n",
       "    <tr>\n",
       "      <th>0</th>\n",
       "      <td>0</td>\n",
       "      <td>47</td>\n",
       "      <td>0.000916</td>\n",
       "    </tr>\n",
       "    <tr>\n",
       "      <th>1</th>\n",
       "      <td>0</td>\n",
       "      <td>99</td>\n",
       "      <td>0.000458</td>\n",
       "    </tr>\n",
       "    <tr>\n",
       "      <th>2</th>\n",
       "      <td>0</td>\n",
       "      <td>186</td>\n",
       "      <td>0.000458</td>\n",
       "    </tr>\n",
       "    <tr>\n",
       "      <th>3</th>\n",
       "      <td>0</td>\n",
       "      <td>208</td>\n",
       "      <td>0.000458</td>\n",
       "    </tr>\n",
       "    <tr>\n",
       "      <th>4</th>\n",
       "      <td>0</td>\n",
       "      <td>230</td>\n",
       "      <td>0.000458</td>\n",
       "    </tr>\n",
       "    <tr>\n",
       "      <th>...</th>\n",
       "      <td>...</td>\n",
       "      <td>...</td>\n",
       "      <td>...</td>\n",
       "    </tr>\n",
       "    <tr>\n",
       "      <th>25966</th>\n",
       "      <td>262</td>\n",
       "      <td>257</td>\n",
       "      <td>0.002290</td>\n",
       "    </tr>\n",
       "    <tr>\n",
       "      <th>25967</th>\n",
       "      <td>262</td>\n",
       "      <td>258</td>\n",
       "      <td>0.004123</td>\n",
       "    </tr>\n",
       "    <tr>\n",
       "      <th>25968</th>\n",
       "      <td>262</td>\n",
       "      <td>259</td>\n",
       "      <td>0.017865</td>\n",
       "    </tr>\n",
       "    <tr>\n",
       "      <th>25969</th>\n",
       "      <td>262</td>\n",
       "      <td>260</td>\n",
       "      <td>0.069629</td>\n",
       "    </tr>\n",
       "    <tr>\n",
       "      <th>25970</th>\n",
       "      <td>262</td>\n",
       "      <td>261</td>\n",
       "      <td>3.509391</td>\n",
       "    </tr>\n",
       "  </tbody>\n",
       "</table>\n",
       "<p>25971 rows × 3 columns</p>\n",
       "</div>"
      ],
      "text/plain": [
       "       origin_id  destination_id      flow\n",
       "0              0              47  0.000916\n",
       "1              0              99  0.000458\n",
       "2              0             186  0.000458\n",
       "3              0             208  0.000458\n",
       "4              0             230  0.000458\n",
       "...          ...             ...       ...\n",
       "25966        262             257  0.002290\n",
       "25967        262             258  0.004123\n",
       "25968        262             259  0.017865\n",
       "25969        262             260  0.069629\n",
       "25970        262             261  3.509391\n",
       "\n",
       "[25971 rows x 3 columns]"
      ]
     },
     "execution_count": 4,
     "metadata": {},
     "output_type": "execute_result"
    }
   ],
   "source": [
    "df_total"
   ]
  },
  {
   "cell_type": "code",
   "execution_count": 5,
   "metadata": {},
   "outputs": [
    {
     "data": {
      "text/plain": [
       "0.002747    4687\n",
       "0.005495    1723\n",
       "0.008242     856\n",
       "0.010989     578\n",
       "0.013736     378\n",
       "            ... \n",
       "1.703297       1\n",
       "3.159341       1\n",
       "1.467033       1\n",
       "6.030220       1\n",
       "6.233516       1\n",
       "Name: flow, Length: 1059, dtype: int64"
      ]
     },
     "execution_count": 5,
     "metadata": {},
     "output_type": "execute_result"
    }
   ],
   "source": [
    "# df_afternoon.drop(columns=[\"Unnamed: 0\"], inplace=True)\n",
    "df_afternoon[\"flow\"].value_counts()"
   ]
  },
  {
   "cell_type": "markdown",
   "metadata": {},
   "source": [
    "# Construct network"
   ]
  },
  {
   "cell_type": "code",
   "execution_count": 6,
   "metadata": {},
   "outputs": [],
   "source": [
    "G_total = nx.DiGraph()\n",
    "\n",
    "G_earlymorning = nx.DiGraph()\n",
    "G_morningrush = nx.DiGraph()\n",
    "G_morningtonoon = nx.DiGraph()\n",
    "G_afternoon = nx.DiGraph()\n",
    "G_eveningrush = nx.DiGraph()\n",
    "G_night = nx.DiGraph()"
   ]
  },
  {
   "cell_type": "code",
   "execution_count": 7,
   "metadata": {},
   "outputs": [],
   "source": [
    "def construct_graph(G, df):\n",
    "    for i, row in df.iterrows():\n",
    "        G.add_edge(row[\"origin_id\"], row[\"destination_id\"], flow=row[\"flow\"])\n",
    "    G.add_nodes_from(rel[\"origin_id\"].unique())\n",
    "    \n",
    "construct_graph(G_total, df_total)\n",
    "\n",
    "construct_graph(G_earlymorning, df_earlymorning)\n",
    "construct_graph(G_morningrush, df_morningrush)\n",
    "construct_graph(G_morningtonoon, df_morningtonoon)\n",
    "construct_graph(G_afternoon, df_afternoon)\n",
    "construct_graph(G_eveningrush, df_eveningrush)\n",
    "construct_graph(G_night, df_night)\n",
    "\n"
   ]
  },
  {
   "cell_type": "code",
   "execution_count": 8,
   "metadata": {},
   "outputs": [],
   "source": [
    "# nx.write_gexf(G_total,\"data/total/NYCTAXI_OD_Total.gexf\")\n",
    "\n",
    "# nx.write_gexf(G_earlymorning,\"data/timeperiod/NYCTAXI_OD_Early Morning.gexf\")\n",
    "# nx.write_gexf(G_morningrush,\"data/timeperiod/NYCTAXI_OD_Morning Rush.gexf\")\n",
    "# nx.write_gexf(G_morningtonoon,\"data/timeperiod/NYCTAXI_OD_Morning to Noon.gexf\")\n",
    "# nx.write_gexf(G_afternoon,\"data/timeperiod/NYCTAXI_OD_Afternoon.gexf\")\n",
    "# nx.write_gexf(G_eveningrush,\"data/timeperiod/NYCTAXI_OD_Evening Rush.gexf\")\n",
    "# nx.write_gexf(G_night,\"data/timeperiod/NYCTAXI_OD_Night.gexf\")"
   ]
  },
  {
   "cell_type": "code",
   "execution_count": 9,
   "metadata": {},
   "outputs": [],
   "source": [
    "# 服务器上不可用\n",
    "# stylized_network, config = nw.visualize(G_afternoon, plot_in_cell_below=False)\n",
    "# fig, ax = nw.draw_netwulf(stylized_network, figsize=(10,10))\n",
    "# plt.savefig(\"myfigure.pdf\")"
   ]
  },
  {
   "cell_type": "code",
   "execution_count": 10,
   "metadata": {},
   "outputs": [],
   "source": [
    "# df_afternoon[df_afternoon[\"destination_id\"] == 238]"
   ]
  },
  {
   "cell_type": "code",
   "execution_count": 11,
   "metadata": {},
   "outputs": [],
   "source": [
    "# G_afternoon.edges(238,data=True)"
   ]
  },
  {
   "cell_type": "markdown",
   "metadata": {},
   "source": [
    "# Basic statistics"
   ]
  },
  {
   "cell_type": "markdown",
   "metadata": {},
   "source": [
    "## calculate"
   ]
  },
  {
   "cell_type": "code",
   "execution_count": 12,
   "metadata": {
    "notebookRunGroups": {
     "groupValue": "2"
    }
   },
   "outputs": [],
   "source": [
    "def get_network_statistics(G):\n",
    "    # 基本统计量\n",
    "    num_nodes = G.number_of_nodes()  # 节点数量\n",
    "    num_edges = G.number_of_edges()  # 边数量\n",
    "\n",
    "    # 平均度\n",
    "    avg_degree = sum(dict(G.degree(weight = \"flow\")).values()) / num_nodes\n",
    "\n",
    "    in_degrees = [deg for node, deg in G.in_degree(weight = \"flow\")]\n",
    "    out_degrees = [deg for node, deg in G.out_degree(weight = \"flow\")]\n",
    "    avg_in_degree = sum(in_degrees) / len(in_degrees)\n",
    "    avg_out_degree = sum(out_degrees) / len(out_degrees)\n",
    "\n",
    "    # Hubs（度数最高的节点）\n",
    "    degree_dict = dict(G.degree(weight = \"flow\"))\n",
    "    hubs = [node for node, degree in degree_dict.items() if degree == max(degree_dict.values())]\n",
    "    in_degree_dict = dict(G.in_degree(weight = \"flow\"))\n",
    "    in_hubs = [node for node, degree in in_degree_dict.items() if degree == max(in_degree_dict.values())]\n",
    "    out_degree_dict = dict(G.out_degree(weight = \"flow\"))\n",
    "    out_hubs = [node for node, degree in out_degree_dict.items() if degree == max(out_degree_dict.values())]\n",
    "\n",
    "    # 最短路径长度\n",
    "    shortest_path_lengths = dict(nx.shortest_path_length(G))\n",
    "\n",
    "    # 直径（最长的最短路径长度）\n",
    "    try:\n",
    "        diameter = nx.diameter(G)\n",
    "    except:\n",
    "        diameter = \"Network is not connected.\"\n",
    "\n",
    "    return {\n",
    "        \"Number of nodes\": num_nodes,\n",
    "        \"Number of edges\": num_edges,\n",
    "        \"Average degree\": avg_degree,\n",
    "        \"Average inout-degree\": avg_in_degree,\n",
    "        \"Hubs\": hubs,\n",
    "        \"In_hubs\": in_hubs,\n",
    "        \"Out_hubs\": out_hubs,\n",
    "        # \"Shortest path lengths\": shortest_path_lengths,\n",
    "        \"Diameter\": diameter\n",
    "    }\n",
    "\n",
    "def print_statistics(G):\n",
    "    print(\"-\"*45)\n",
    "    stats = get_network_statistics(G)\n",
    "    for key, value in stats.items():\n",
    "        print(f\"{key}: {value}\")\n",
    "    return stats"
   ]
  },
  {
   "cell_type": "code",
   "execution_count": 13,
   "metadata": {},
   "outputs": [
    {
     "name": "stdout",
     "output_type": "stream",
     "text": [
      "---------------------------------------------\n",
      "Number of nodes: 263\n",
      "Number of edges: 25971\n",
      "Average degree: 23.099975789413165\n",
      "Average inout-degree: 11.549987894706591\n",
      "Hubs: [236.0]\n",
      "In_hubs: [235.0]\n",
      "Out_hubs: [160.0]\n",
      "Diameter: Network is not connected.\n",
      "---------------------------------------------\n",
      "Number of nodes: 263\n",
      "Number of edges: 15154\n",
      "Average degree: 7.927607427879012\n",
      "Average inout-degree: 3.9638037139395035\n",
      "Hubs: [78.0]\n",
      "In_hubs: [78.0]\n",
      "Out_hubs: [78.0]\n",
      "Diameter: Network is not connected.\n",
      "---------------------------------------------\n",
      "Number of nodes: 263\n",
      "Number of edges: 14070\n",
      "Average degree: 20.921927882003914\n",
      "Average inout-degree: 10.460963941001966\n",
      "Hubs: [235.0]\n",
      "In_hubs: [160.0]\n",
      "Out_hubs: [235.0]\n",
      "Diameter: Network is not connected.\n",
      "---------------------------------------------\n",
      "Number of nodes: 263\n",
      "Number of edges: 11080\n",
      "Average degree: 27.398153177620827\n",
      "Average inout-degree: 13.699076588810422\n",
      "Hubs: [236.0]\n",
      "In_hubs: [236.0]\n",
      "Out_hubs: [235.0]\n",
      "Diameter: Network is not connected.\n",
      "---------------------------------------------\n",
      "Number of nodes: 263\n",
      "Number of edges: 13389\n",
      "Average degree: 30.96527806793966\n",
      "Average inout-degree: 15.482639033969827\n",
      "Hubs: [236.0]\n",
      "In_hubs: [235.0]\n",
      "Out_hubs: [236.0]\n",
      "Diameter: Network is not connected.\n",
      "---------------------------------------------\n",
      "Number of nodes: 263\n",
      "Number of edges: 12076\n",
      "Average degree: 38.10356690204594\n",
      "Average inout-degree: 19.051783451023\n",
      "Hubs: [160.0]\n",
      "In_hubs: [235.0]\n",
      "Out_hubs: [160.0]\n",
      "Diameter: Network is not connected.\n",
      "---------------------------------------------\n",
      "Number of nodes: 263\n",
      "Number of edges: 14630\n",
      "Average degree: 30.583142171804454\n",
      "Average inout-degree: 15.291571085902229\n",
      "Hubs: [160.0]\n",
      "In_hubs: [235.0]\n",
      "Out_hubs: [160.0]\n",
      "Diameter: Network is not connected.\n"
     ]
    }
   ],
   "source": [
    "G_total_stats = print_statistics(G_total)\n",
    "\n",
    "G_earlymorning_stats = print_statistics(G_earlymorning)\n",
    "G_morningrush_stats = print_statistics(G_morningrush)\n",
    "G_morningtonoon_stats = print_statistics(G_morningtonoon)\n",
    "G_afternoon_stats = print_statistics(G_afternoon)\n",
    "G_eveningrush_stats = print_statistics(G_eveningrush)\n",
    "G_night_stats = print_statistics(G_night)"
   ]
  },
  {
   "cell_type": "code",
   "execution_count": 14,
   "metadata": {},
   "outputs": [
    {
     "data": {
      "text/html": [
       "<div>\n",
       "<style scoped>\n",
       "    .dataframe tbody tr th:only-of-type {\n",
       "        vertical-align: middle;\n",
       "    }\n",
       "\n",
       "    .dataframe tbody tr th {\n",
       "        vertical-align: top;\n",
       "    }\n",
       "\n",
       "    .dataframe thead th {\n",
       "        text-align: right;\n",
       "    }\n",
       "</style>\n",
       "<table border=\"1\" class=\"dataframe\">\n",
       "  <thead>\n",
       "    <tr style=\"text-align: right;\">\n",
       "      <th></th>\n",
       "      <th>Number of nodes</th>\n",
       "      <th>Number of edges</th>\n",
       "      <th>Average degree</th>\n",
       "      <th>Average inout-degree</th>\n",
       "      <th>Hubs</th>\n",
       "      <th>In_hubs</th>\n",
       "      <th>Out_hubs</th>\n",
       "      <th>Diameter</th>\n",
       "    </tr>\n",
       "  </thead>\n",
       "  <tbody>\n",
       "    <tr>\n",
       "      <th>Total</th>\n",
       "      <td>263</td>\n",
       "      <td>25971</td>\n",
       "      <td>23.099976</td>\n",
       "      <td>11.549988</td>\n",
       "      <td>[236.0]</td>\n",
       "      <td>[235.0]</td>\n",
       "      <td>[160.0]</td>\n",
       "      <td>Network is not connected.</td>\n",
       "    </tr>\n",
       "    <tr>\n",
       "      <th>Early Morning</th>\n",
       "      <td>263</td>\n",
       "      <td>15154</td>\n",
       "      <td>7.927607</td>\n",
       "      <td>3.963804</td>\n",
       "      <td>[78.0]</td>\n",
       "      <td>[78.0]</td>\n",
       "      <td>[78.0]</td>\n",
       "      <td>Network is not connected.</td>\n",
       "    </tr>\n",
       "    <tr>\n",
       "      <th>Morning Rush</th>\n",
       "      <td>263</td>\n",
       "      <td>14070</td>\n",
       "      <td>20.921928</td>\n",
       "      <td>10.460964</td>\n",
       "      <td>[235.0]</td>\n",
       "      <td>[160.0]</td>\n",
       "      <td>[235.0]</td>\n",
       "      <td>Network is not connected.</td>\n",
       "    </tr>\n",
       "    <tr>\n",
       "      <th>Morning to Noon</th>\n",
       "      <td>263</td>\n",
       "      <td>11080</td>\n",
       "      <td>27.398153</td>\n",
       "      <td>13.699077</td>\n",
       "      <td>[236.0]</td>\n",
       "      <td>[236.0]</td>\n",
       "      <td>[235.0]</td>\n",
       "      <td>Network is not connected.</td>\n",
       "    </tr>\n",
       "    <tr>\n",
       "      <th>Afternoon</th>\n",
       "      <td>263</td>\n",
       "      <td>13389</td>\n",
       "      <td>30.965278</td>\n",
       "      <td>15.482639</td>\n",
       "      <td>[236.0]</td>\n",
       "      <td>[235.0]</td>\n",
       "      <td>[236.0]</td>\n",
       "      <td>Network is not connected.</td>\n",
       "    </tr>\n",
       "    <tr>\n",
       "      <th>Evening Rush</th>\n",
       "      <td>263</td>\n",
       "      <td>12076</td>\n",
       "      <td>38.103567</td>\n",
       "      <td>19.051783</td>\n",
       "      <td>[160.0]</td>\n",
       "      <td>[235.0]</td>\n",
       "      <td>[160.0]</td>\n",
       "      <td>Network is not connected.</td>\n",
       "    </tr>\n",
       "    <tr>\n",
       "      <th>Night</th>\n",
       "      <td>263</td>\n",
       "      <td>14630</td>\n",
       "      <td>30.583142</td>\n",
       "      <td>15.291571</td>\n",
       "      <td>[160.0]</td>\n",
       "      <td>[235.0]</td>\n",
       "      <td>[160.0]</td>\n",
       "      <td>Network is not connected.</td>\n",
       "    </tr>\n",
       "  </tbody>\n",
       "</table>\n",
       "</div>"
      ],
      "text/plain": [
       "                 Number of nodes  Number of edges  Average degree  \\\n",
       "Total                        263            25971       23.099976   \n",
       "Early Morning                263            15154        7.927607   \n",
       "Morning Rush                 263            14070       20.921928   \n",
       "Morning to Noon              263            11080       27.398153   \n",
       "Afternoon                    263            13389       30.965278   \n",
       "Evening Rush                 263            12076       38.103567   \n",
       "Night                        263            14630       30.583142   \n",
       "\n",
       "                 Average inout-degree     Hubs  In_hubs Out_hubs  \\\n",
       "Total                       11.549988  [236.0]  [235.0]  [160.0]   \n",
       "Early Morning                3.963804   [78.0]   [78.0]   [78.0]   \n",
       "Morning Rush                10.460964  [235.0]  [160.0]  [235.0]   \n",
       "Morning to Noon             13.699077  [236.0]  [236.0]  [235.0]   \n",
       "Afternoon                   15.482639  [236.0]  [235.0]  [236.0]   \n",
       "Evening Rush                19.051783  [160.0]  [235.0]  [160.0]   \n",
       "Night                       15.291571  [160.0]  [235.0]  [160.0]   \n",
       "\n",
       "                                  Diameter  \n",
       "Total            Network is not connected.  \n",
       "Early Morning    Network is not connected.  \n",
       "Morning Rush     Network is not connected.  \n",
       "Morning to Noon  Network is not connected.  \n",
       "Afternoon        Network is not connected.  \n",
       "Evening Rush     Network is not connected.  \n",
       "Night            Network is not connected.  "
      ]
     },
     "execution_count": 14,
     "metadata": {},
     "output_type": "execute_result"
    }
   ],
   "source": [
    "df_statistics = pd.DataFrame(\n",
    "    [G_total_stats, G_earlymorning_stats, G_morningrush_stats, G_morningtonoon_stats, G_afternoon_stats, G_eveningrush_stats, G_night_stats],\n",
    "    index=[\"Total\", \"Early Morning\", \"Morning Rush\", \"Morning to Noon\", \"Afternoon\", \"Evening Rush\", \"Night\"]\n",
    ")\n",
    "df_statistics"
   ]
  },
  {
   "cell_type": "markdown",
   "metadata": {},
   "source": [
    "## plot"
   ]
  },
  {
   "cell_type": "code",
   "execution_count": 15,
   "metadata": {},
   "outputs": [
    {
     "data": {
      "image/png": "[encoded data removed]",
      "text/plain": [
       "<Figure size 1000x500 with 1 Axes>"
      ]
     },
     "metadata": {},
     "output_type": "display_data"
    }
   ],
   "source": [
    "with plt.style.context(\"fivethirtyeight\"), sns.plotting_context(context=\"poster\",font_scale=0.5):\n",
    "    fig,ax = plt.subplots(figsize=(10, 5))\n",
    "    fig.patch.set_facecolor('white')  # 设置整个图的背景颜色为白色\n",
    "    line = sns.lineplot(x=df_statistics.index, y=\"Average inout-degree\", data=df_statistics,marker = \"o\")\n",
    "    \n",
    "    ax.set_facecolor('white')    # 设置轴的边框颜色为白色\n",
    "    for spine in ax.spines.values():\n",
    "        spine.set_edgecolor('white')\n",
    "        \n",
    "    for x, y in zip(df_statistics.index, df_statistics[\"Average inout-degree\"]):\n",
    "        ax.text(x, y, f'{y:.2f}', color='black', ha='left')\n",
    "    plt.xlabel(\"Time Period\")\n",
    "    plt.ylabel(\"Average Inout-degree\")\n",
    "    plt.title(\"Average Inout-degree of Different Time Periods\")"
   ]
  },
  {
   "cell_type": "markdown",
   "metadata": {},
   "source": [
    "# Structure"
   ]
  },
  {
   "cell_type": "markdown",
   "metadata": {},
   "source": [
    "在有向图中，节点i的聚类系数定义为所有可能的有向三元组（即i -> j, j -> k, k -> i）的比例，其中j和k是i的邻居。一个有向三元组是一个节点对的有序三元组。\n",
    "\n",
    "nx.average_clustering()函数默认会将有向图视为无向图进行计算。如果你想要计算有向图的聚类系数，需要将count_zeros参数设置为False"
   ]
  },
  {
   "cell_type": "code",
   "execution_count": 16,
   "metadata": {},
   "outputs": [],
   "source": [
    "# avg_clustering = nx.average_clustering(G, count_zeros=False)\n",
    "# avg_clustering"
   ]
  }
 ],
 "metadata": {
  "kernelspec": {
   "display_name": "Python 3",
   "language": "python",
   "name": "python3"
  },
  "language_info": {
   "codemirror_mode": {
    "name": "ipython",
    "version": 3
   },
   "file_extension": ".py",
   "mimetype": "text/x-python",
   "name": "python",
   "nbconvert_exporter": "python",
   "pygments_lexer": "ipython3",
   "version": "3.10.12"
  }
 },
 "nbformat": 4,
 "nbformat_minor": 2
}

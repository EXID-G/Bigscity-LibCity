{
 "cells": [
  {
   "cell_type": "markdown",
   "metadata": {},
   "source": [
    "# Preparation"
   ]
  },
  {
   "cell_type": "code",
   "execution_count": 25,
   "metadata": {},
   "outputs": [],
   "source": [
    "%matplotlib inline\n",
    "import pandas as pd\n",
    "import networkx as nx\n",
    "import netwulf as nw\n",
    "import matplotlib.pyplot as plt\n",
    "import seaborn as sns\n",
    "import random\n",
    "\n",
    "import numpy as np\n",
    "import matplotlib.lines as mlines\n",
    "\n",
    "plt.rcParams['font.sans-serif'] = ['Times New Roman']  #防止中文乱码，还可以有Microsoft YaHei, Times New Roman, Arial\n",
    "plt.rcParams[\"axes.unicode_minus\"] = False   #字符显示，防止负号乱码\n",
    "\n",
    "import warnings\n",
    "warnings.filterwarnings('ignore')"
   ]
  },
  {
   "cell_type": "code",
   "execution_count": 52,
   "metadata": {},
   "outputs": [
    {
     "name": "stdout",
     "output_type": "stream",
     "text": [
      "Collecting infomapNote: you may need to restart the kernel to use updated packages.\n",
      "\n",
      "  Using cached infomap-2.7.1.tar.gz (263 kB)\n",
      "  Preparing metadata (setup.py): started\n",
      "  Preparing metadata (setup.py): finished with status 'done'\n",
      "Building wheels for collected packages: infomap\n",
      "  Building wheel for infomap (setup.py): started\n",
      "  Building wheel for infomap (setup.py): finished with status 'error'\n",
      "  Running setup.py clean for infomap\n",
      "Failed to build infomap\n"
     ]
    },
    {
     "name": "stderr",
     "output_type": "stream",
     "text": [
      "  error: subprocess-exited-with-error\n",
      "  \n",
      "  × python setup.py bdist_wheel did not run successfully.\n",
      "  │ exit code: 1\n",
      "  ╰─> [22 lines of output]\n",
      "      C:\\Users\\34071\\AppData\\Local\\Temp\\pip-install-1u3dv1g_\\infomap_091cc313a45448e6a024a50b5926cb64\\setup.py:13: DeprecationWarning: pkg_resources is deprecated as an API. See https://setuptools.pypa.io/en/latest/pkg_resources.html\n",
      "        from pkg_resources import parse_version\n",
      "      Building with OpenMP support\n",
      "      running bdist_wheel\n",
      "      running build\n",
      "      running build_py\n",
      "      creating build\n",
      "      creating build\\lib.win-amd64-cpython-311\n",
      "      copying infomap.py -> build\\lib.win-amd64-cpython-311\n",
      "      copying package_meta.py -> build\\lib.win-amd64-cpython-311\n",
      "      running egg_info\n",
      "      writing infomap.egg-info\\PKG-INFO\n",
      "      writing dependency_links to infomap.egg-info\\dependency_links.txt\n",
      "      writing entry points to infomap.egg-info\\entry_points.txt\n",
      "      writing top-level names to infomap.egg-info\\top_level.txt\n",
      "      reading manifest file 'infomap.egg-info\\SOURCES.txt'\n",
      "      reading manifest template 'MANIFEST.in'\n",
      "      adding license file 'LICENSE'\n",
      "      writing manifest file 'infomap.egg-info\\SOURCES.txt'\n",
      "      running build_ext\n",
      "      building '_infomap' extension\n",
      "      error: Microsoft Visual C++ 14.0 or greater is required. Get it with \"Microsoft C++ Build Tools\": https://visualstudio.microsoft.com/visual-cpp-build-tools/\n",
      "      [end of output]\n",
      "  \n",
      "  note: This error originates from a subprocess, and is likely not a problem with pip.\n",
      "  ERROR: Failed building wheel for infomap\n",
      "ERROR: Could not build wheels for infomap, which is required to install pyproject.toml-based projects\n",
      "WARNING: There was an error checking the latest version of pip.\n"
     ]
    }
   ],
   "source": [
    "pip install infomap"
   ]
  },
  {
   "cell_type": "code",
   "execution_count": 26,
   "metadata": {},
   "outputs": [],
   "source": [
    "# from infomap import Infomap\n",
    "from cdlib import algorithms, NodeClustering"
   ]
  },
  {
   "cell_type": "code",
   "execution_count": 27,
   "metadata": {},
   "outputs": [
    {
     "data": {
      "text/html": [
       "<div>\n",
       "<style scoped>\n",
       "    .dataframe tbody tr th:only-of-type {\n",
       "        vertical-align: middle;\n",
       "    }\n",
       "\n",
       "    .dataframe tbody tr th {\n",
       "        vertical-align: top;\n",
       "    }\n",
       "\n",
       "    .dataframe thead th {\n",
       "        text-align: right;\n",
       "    }\n",
       "</style>\n",
       "<table border=\"1\" class=\"dataframe\">\n",
       "  <thead>\n",
       "    <tr style=\"text-align: right;\">\n",
       "      <th></th>\n",
       "      <th>geo_id</th>\n",
       "      <th>type</th>\n",
       "      <th>coordinates</th>\n",
       "    </tr>\n",
       "  </thead>\n",
       "  <tbody>\n",
       "    <tr>\n",
       "      <th>0</th>\n",
       "      <td>0</td>\n",
       "      <td>Polygon</td>\n",
       "      <td>[[['-74.18445300', '40.69499600'], ['-74.18563...</td>\n",
       "    </tr>\n",
       "    <tr>\n",
       "      <th>1</th>\n",
       "      <td>1</td>\n",
       "      <td>MultiPolygon</td>\n",
       "      <td>[[[['-73.81768667', '40.61493300'], ['-73.8165...</td>\n",
       "    </tr>\n",
       "    <tr>\n",
       "      <th>2</th>\n",
       "      <td>2</td>\n",
       "      <td>Polygon</td>\n",
       "      <td>[[['-73.84240629', '40.86847474'], ['-73.84280...</td>\n",
       "    </tr>\n",
       "    <tr>\n",
       "      <th>3</th>\n",
       "      <td>3</td>\n",
       "      <td>Polygon</td>\n",
       "      <td>[[['-73.97464721', '40.71884235'], ['-73.97347...</td>\n",
       "    </tr>\n",
       "    <tr>\n",
       "      <th>4</th>\n",
       "      <td>4</td>\n",
       "      <td>Polygon</td>\n",
       "      <td>[[['-74.17225508', '40.56170484'], ['-74.17348...</td>\n",
       "    </tr>\n",
       "  </tbody>\n",
       "</table>\n",
       "</div>"
      ],
      "text/plain": [
       "   geo_id          type                                        coordinates\n",
       "0       0       Polygon  [[['-74.18445300', '40.69499600'], ['-74.18563...\n",
       "1       1  MultiPolygon  [[[['-73.81768667', '40.61493300'], ['-73.8165...\n",
       "2       2       Polygon  [[['-73.84240629', '40.86847474'], ['-73.84280...\n",
       "3       3       Polygon  [[['-73.97464721', '40.71884235'], ['-73.97347...\n",
       "4       4       Polygon  [[['-74.17225508', '40.56170484'], ['-74.17348..."
      ]
     },
     "execution_count": 27,
     "metadata": {},
     "output_type": "execute_result"
    }
   ],
   "source": [
    "geo = pd.read_csv(\"data/NYCTAXI202401-202403.geo\")\n",
    "geo.head()"
   ]
  },
  {
   "cell_type": "code",
   "execution_count": 28,
   "metadata": {},
   "outputs": [
    {
     "data": {
      "text/html": [
       "<div>\n",
       "<style scoped>\n",
       "    .dataframe tbody tr th:only-of-type {\n",
       "        vertical-align: middle;\n",
       "    }\n",
       "\n",
       "    .dataframe tbody tr th {\n",
       "        vertical-align: top;\n",
       "    }\n",
       "\n",
       "    .dataframe thead th {\n",
       "        text-align: right;\n",
       "    }\n",
       "</style>\n",
       "<table border=\"1\" class=\"dataframe\">\n",
       "  <thead>\n",
       "    <tr style=\"text-align: right;\">\n",
       "      <th></th>\n",
       "      <th>rel_id</th>\n",
       "      <th>type</th>\n",
       "      <th>origin_id</th>\n",
       "      <th>destination_id</th>\n",
       "      <th>cost</th>\n",
       "    </tr>\n",
       "  </thead>\n",
       "  <tbody>\n",
       "    <tr>\n",
       "      <th>0</th>\n",
       "      <td>0</td>\n",
       "      <td>geo</td>\n",
       "      <td>0</td>\n",
       "      <td>0</td>\n",
       "      <td>0.0</td>\n",
       "    </tr>\n",
       "    <tr>\n",
       "      <th>1</th>\n",
       "      <td>1</td>\n",
       "      <td>geo</td>\n",
       "      <td>0</td>\n",
       "      <td>1</td>\n",
       "      <td>31349.0</td>\n",
       "    </tr>\n",
       "    <tr>\n",
       "      <th>2</th>\n",
       "      <td>2</td>\n",
       "      <td>geo</td>\n",
       "      <td>0</td>\n",
       "      <td>2</td>\n",
       "      <td>33747.0</td>\n",
       "    </tr>\n",
       "    <tr>\n",
       "      <th>3</th>\n",
       "      <td>3</td>\n",
       "      <td>geo</td>\n",
       "      <td>0</td>\n",
       "      <td>3</td>\n",
       "      <td>17205.0</td>\n",
       "    </tr>\n",
       "    <tr>\n",
       "      <th>4</th>\n",
       "      <td>4</td>\n",
       "      <td>geo</td>\n",
       "      <td>0</td>\n",
       "      <td>4</td>\n",
       "      <td>14927.0</td>\n",
       "    </tr>\n",
       "  </tbody>\n",
       "</table>\n",
       "</div>"
      ],
      "text/plain": [
       "   rel_id type  origin_id  destination_id     cost\n",
       "0       0  geo          0               0      0.0\n",
       "1       1  geo          0               1  31349.0\n",
       "2       2  geo          0               2  33747.0\n",
       "3       3  geo          0               3  17205.0\n",
       "4       4  geo          0               4  14927.0"
      ]
     },
     "execution_count": 28,
     "metadata": {},
     "output_type": "execute_result"
    }
   ],
   "source": [
    "rel = pd.read_csv(\"data/NYCTAXI202401-202403.rel\")\n",
    "rel.head()"
   ]
  },
  {
   "cell_type": "code",
   "execution_count": 29,
   "metadata": {},
   "outputs": [],
   "source": [
    "df_total = pd.read_csv(\"data/total/NYCTAXI_OD_Total.csv\")\n",
    "\n",
    "df_earlymorning = pd.read_csv(\"data/timeperiod/NYCTAXI_OD_Early Morning.csv\")\n",
    "df_morningrush = pd.read_csv(\"data/timeperiod/NYCTAXI_OD_Morning Rush.csv\")\n",
    "df_morningtonoon = pd.read_csv(\"data/timeperiod/NYCTAXI_OD_Morning to Noon.csv\")\n",
    "df_afternoon = pd.read_csv(\"data/timeperiod/NYCTAXI_OD_Afternoon.csv\")\n",
    "df_eveningrush = pd.read_csv(\"data/timeperiod/NYCTAXI_OD_Evening Rush.csv\")\n",
    "df_night = pd.read_csv(\"data/timeperiod/NYCTAXI_OD_Night.csv\")\n",
    "\n",
    "# df_total[\"flow\"].value_counts()\n",
    "# df_total[\"origin_id\"].nunique()"
   ]
  },
  {
   "cell_type": "code",
   "execution_count": 30,
   "metadata": {},
   "outputs": [
    {
     "data": {
      "text/html": [
       "<div>\n",
       "<style scoped>\n",
       "    .dataframe tbody tr th:only-of-type {\n",
       "        vertical-align: middle;\n",
       "    }\n",
       "\n",
       "    .dataframe tbody tr th {\n",
       "        vertical-align: top;\n",
       "    }\n",
       "\n",
       "    .dataframe thead th {\n",
       "        text-align: right;\n",
       "    }\n",
       "</style>\n",
       "<table border=\"1\" class=\"dataframe\">\n",
       "  <thead>\n",
       "    <tr style=\"text-align: right;\">\n",
       "      <th></th>\n",
       "      <th>origin_id</th>\n",
       "      <th>destination_id</th>\n",
       "      <th>flow</th>\n",
       "    </tr>\n",
       "  </thead>\n",
       "  <tbody>\n",
       "    <tr>\n",
       "      <th>0</th>\n",
       "      <td>0</td>\n",
       "      <td>47</td>\n",
       "      <td>0.000916</td>\n",
       "    </tr>\n",
       "    <tr>\n",
       "      <th>1</th>\n",
       "      <td>0</td>\n",
       "      <td>99</td>\n",
       "      <td>0.000458</td>\n",
       "    </tr>\n",
       "    <tr>\n",
       "      <th>2</th>\n",
       "      <td>0</td>\n",
       "      <td>186</td>\n",
       "      <td>0.000458</td>\n",
       "    </tr>\n",
       "    <tr>\n",
       "      <th>3</th>\n",
       "      <td>0</td>\n",
       "      <td>208</td>\n",
       "      <td>0.000458</td>\n",
       "    </tr>\n",
       "    <tr>\n",
       "      <th>4</th>\n",
       "      <td>0</td>\n",
       "      <td>230</td>\n",
       "      <td>0.000458</td>\n",
       "    </tr>\n",
       "    <tr>\n",
       "      <th>...</th>\n",
       "      <td>...</td>\n",
       "      <td>...</td>\n",
       "      <td>...</td>\n",
       "    </tr>\n",
       "    <tr>\n",
       "      <th>25966</th>\n",
       "      <td>262</td>\n",
       "      <td>257</td>\n",
       "      <td>0.002290</td>\n",
       "    </tr>\n",
       "    <tr>\n",
       "      <th>25967</th>\n",
       "      <td>262</td>\n",
       "      <td>258</td>\n",
       "      <td>0.004123</td>\n",
       "    </tr>\n",
       "    <tr>\n",
       "      <th>25968</th>\n",
       "      <td>262</td>\n",
       "      <td>259</td>\n",
       "      <td>0.017865</td>\n",
       "    </tr>\n",
       "    <tr>\n",
       "      <th>25969</th>\n",
       "      <td>262</td>\n",
       "      <td>260</td>\n",
       "      <td>0.069629</td>\n",
       "    </tr>\n",
       "    <tr>\n",
       "      <th>25970</th>\n",
       "      <td>262</td>\n",
       "      <td>261</td>\n",
       "      <td>3.509391</td>\n",
       "    </tr>\n",
       "  </tbody>\n",
       "</table>\n",
       "<p>25971 rows × 3 columns</p>\n",
       "</div>"
      ],
      "text/plain": [
       "       origin_id  destination_id      flow\n",
       "0              0              47  0.000916\n",
       "1              0              99  0.000458\n",
       "2              0             186  0.000458\n",
       "3              0             208  0.000458\n",
       "4              0             230  0.000458\n",
       "...          ...             ...       ...\n",
       "25966        262             257  0.002290\n",
       "25967        262             258  0.004123\n",
       "25968        262             259  0.017865\n",
       "25969        262             260  0.069629\n",
       "25970        262             261  3.509391\n",
       "\n",
       "[25971 rows x 3 columns]"
      ]
     },
     "execution_count": 30,
     "metadata": {},
     "output_type": "execute_result"
    }
   ],
   "source": [
    "df_total"
   ]
  },
  {
   "cell_type": "code",
   "execution_count": 31,
   "metadata": {},
   "outputs": [
    {
     "data": {
      "text/plain": [
       "flow\n",
       "0.002747    4687\n",
       "0.005495    1723\n",
       "0.008242     856\n",
       "0.010989     578\n",
       "0.013736     378\n",
       "            ... \n",
       "1.703297       1\n",
       "3.159341       1\n",
       "1.467033       1\n",
       "6.030220       1\n",
       "6.233516       1\n",
       "Name: count, Length: 1059, dtype: int64"
      ]
     },
     "execution_count": 31,
     "metadata": {},
     "output_type": "execute_result"
    }
   ],
   "source": [
    "# df_afternoon.drop(columns=[\"Unnamed: 0\"], inplace=True)\n",
    "df_afternoon[\"flow\"].value_counts()"
   ]
  },
  {
   "cell_type": "markdown",
   "metadata": {},
   "source": [
    "# Construct network"
   ]
  },
  {
   "cell_type": "code",
   "execution_count": 32,
   "metadata": {},
   "outputs": [],
   "source": [
    "G_total = nx.DiGraph()\n",
    "\n",
    "G_earlymorning = nx.DiGraph()\n",
    "G_morningrush = nx.DiGraph()\n",
    "G_morningtonoon = nx.DiGraph()\n",
    "G_afternoon = nx.DiGraph()\n",
    "G_eveningrush = nx.DiGraph()\n",
    "G_night = nx.DiGraph()"
   ]
  },
  {
   "cell_type": "code",
   "execution_count": 33,
   "metadata": {},
   "outputs": [],
   "source": [
    "def construct_graph(G, df):\n",
    "    for i, row in df.iterrows():\n",
    "        G.add_edge(row[\"origin_id\"], row[\"destination_id\"], flow=row[\"flow\"])\n",
    "    # G.add_nodes_from(rel[\"origin_id\"].unique())\n",
    "    \n",
    "construct_graph(G_total, df_total)\n",
    "\n",
    "construct_graph(G_earlymorning, df_earlymorning)\n",
    "construct_graph(G_morningrush, df_morningrush)\n",
    "construct_graph(G_morningtonoon, df_morningtonoon)\n",
    "construct_graph(G_afternoon, df_afternoon)\n",
    "construct_graph(G_eveningrush, df_eveningrush)\n",
    "construct_graph(G_night, df_night)"
   ]
  },
  {
   "cell_type": "code",
   "execution_count": 34,
   "metadata": {},
   "outputs": [],
   "source": [
    "# nx.write_gexf(G_total,\"data/total/NYCTAXI_OD_Total.gexf\")\n",
    "\n",
    "# nx.write_gexf(G_earlymorning,\"data/timeperiod/NYCTAXI_OD_Early Morning.gexf\")\n",
    "# nx.write_gexf(G_morningrush,\"data/timeperiod/NYCTAXI_OD_Morning Rush.gexf\")\n",
    "# nx.write_gexf(G_morningtonoon,\"data/timeperiod/NYCTAXI_OD_Morning to Noon.gexf\")\n",
    "# nx.write_gexf(G_afternoon,\"data/timeperiod/NYCTAXI_OD_Afternoon.gexf\")\n",
    "# nx.write_gexf(G_eveningrush,\"data/timeperiod/NYCTAXI_OD_Evening Rush.gexf\")\n",
    "# nx.write_gexf(G_night,\"data/timeperiod/NYCTAXI_OD_Night.gexf\")"
   ]
  },
  {
   "cell_type": "code",
   "execution_count": 35,
   "metadata": {},
   "outputs": [],
   "source": [
    "# 服务器上不可用\n",
    "# stylized_network, config = nw.visualize(G_afternoon, plot_in_cell_below=False)\n",
    "# fig, ax = nw.draw_netwulf(stylized_network, figsize=(10,10))\n",
    "# plt.savefig(\"myfigure.pdf\")"
   ]
  },
  {
   "cell_type": "code",
   "execution_count": 36,
   "metadata": {},
   "outputs": [],
   "source": [
    "# df_afternoon[df_afternoon[\"destination_id\"] == 238]"
   ]
  },
  {
   "cell_type": "code",
   "execution_count": 37,
   "metadata": {},
   "outputs": [],
   "source": [
    "# G_afternoon.edges(238,data=True)"
   ]
  },
  {
   "cell_type": "markdown",
   "metadata": {},
   "source": [
    "# Basic statistics"
   ]
  },
  {
   "cell_type": "markdown",
   "metadata": {},
   "source": [
    "## calculate"
   ]
  },
  {
   "cell_type": "code",
   "execution_count": 38,
   "metadata": {
    "notebookRunGroups": {
     "groupValue": "2"
    }
   },
   "outputs": [],
   "source": [
    "def get_network_statistics(G):\n",
    "    # 基本统计量\n",
    "    num_nodes = G.number_of_nodes()  # 节点数量\n",
    "    num_edges = G.number_of_edges()  # 边数量\n",
    "\n",
    "    # 平均度\n",
    "    avg_degree = sum(dict(G.degree(weight = \"flow\")).values()) / num_nodes\n",
    "\n",
    "    in_degrees = [deg for node, deg in G.in_degree(weight = \"flow\")]\n",
    "    out_degrees = [deg for node, deg in G.out_degree(weight = \"flow\")]\n",
    "    avg_in_degree = sum(in_degrees) / len(in_degrees)\n",
    "    avg_out_degree = sum(out_degrees) / len(out_degrees)\n",
    "\n",
    "    # Hubs（度数最高的节点）\n",
    "    degree_dict = dict(G.degree(weight = \"flow\"))\n",
    "    hubs = [node for node, degree in degree_dict.items() if degree == max(degree_dict.values())]\n",
    "    in_degree_dict = dict(G.in_degree(weight = \"flow\"))\n",
    "    in_hubs = [node for node, degree in in_degree_dict.items() if degree == max(in_degree_dict.values())]\n",
    "    out_degree_dict = dict(G.out_degree(weight = \"flow\"))\n",
    "    out_hubs = [node for node, degree in out_degree_dict.items() if degree == max(out_degree_dict.values())]\n",
    "\n",
    "    # 最短路径长度\n",
    "    shortest_path_lengths = dict(nx.shortest_path_length(G))\n",
    "\n",
    "    # 直径（最长的最短路径长度）\n",
    "    try:\n",
    "        diameter = nx.diameter(G)\n",
    "    except:\n",
    "        diameter = \"Network is not connected.\"\n",
    "\n",
    "    # 最大连通分量\n",
    "    largest_component = max(nx.strongly_connected_components(G), key=len)\n",
    "\n",
    "    return {\n",
    "        \"Number of nodes\": num_nodes,\n",
    "        \"Number of edges\": num_edges,\n",
    "        \"Average degree\": avg_degree,\n",
    "        \"Average inout-degree\": avg_in_degree,\n",
    "        # \"Hubs\": hubs,\n",
    "        \"In_hubs\": in_hubs,\n",
    "        \"Out_hubs\": out_hubs,\n",
    "        # \"Shortest path lengths\": shortest_path_lengths,\n",
    "        \"Diameter\": diameter,\n",
    "        \"Largest component\": largest_component,\n",
    "        \"Size of largest component\": len(largest_component)\n",
    "    }\n",
    "\n",
    "def print_statistics(G):\n",
    "    # print(\"-\"*45)\n",
    "    stats = get_network_statistics(G)\n",
    "    # for key, value in stats.items():\n",
    "        # print(f\"{key}: {value}\")\n",
    "    return stats"
   ]
  },
  {
   "cell_type": "code",
   "execution_count": 39,
   "metadata": {},
   "outputs": [],
   "source": [
    "G_total_stats = print_statistics(G_total)\n",
    "\n",
    "G_earlymorning_stats = print_statistics(G_earlymorning)\n",
    "G_morningrush_stats = print_statistics(G_morningrush)\n",
    "G_morningtonoon_stats = print_statistics(G_morningtonoon)\n",
    "G_afternoon_stats = print_statistics(G_afternoon)\n",
    "G_eveningrush_stats = print_statistics(G_eveningrush)\n",
    "G_night_stats = print_statistics(G_night)"
   ]
  },
  {
   "cell_type": "code",
   "execution_count": 40,
   "metadata": {},
   "outputs": [
    {
     "data": {
      "text/html": [
       "<div>\n",
       "<style scoped>\n",
       "    .dataframe tbody tr th:only-of-type {\n",
       "        vertical-align: middle;\n",
       "    }\n",
       "\n",
       "    .dataframe tbody tr th {\n",
       "        vertical-align: top;\n",
       "    }\n",
       "\n",
       "    .dataframe thead th {\n",
       "        text-align: right;\n",
       "    }\n",
       "</style>\n",
       "<table border=\"1\" class=\"dataframe\">\n",
       "  <thead>\n",
       "    <tr style=\"text-align: right;\">\n",
       "      <th></th>\n",
       "      <th>Number of nodes</th>\n",
       "      <th>Number of edges</th>\n",
       "      <th>Average degree</th>\n",
       "      <th>Average inout-degree</th>\n",
       "      <th>In_hubs</th>\n",
       "      <th>Out_hubs</th>\n",
       "      <th>Diameter</th>\n",
       "      <th>Largest component</th>\n",
       "      <th>Size of largest component</th>\n",
       "    </tr>\n",
       "  </thead>\n",
       "  <tbody>\n",
       "    <tr>\n",
       "      <th>Total</th>\n",
       "      <td>260</td>\n",
       "      <td>25971</td>\n",
       "      <td>23.366514</td>\n",
       "      <td>11.683257</td>\n",
       "      <td>[235.0]</td>\n",
       "      <td>[160.0]</td>\n",
       "      <td>Network is not connected.</td>\n",
       "      <td>{0.0, 1.0, 2.0, 3.0, 5.0, 6.0, 7.0, 8.0, 9.0, ...</td>\n",
       "      <td>255</td>\n",
       "    </tr>\n",
       "    <tr>\n",
       "      <th>Early Morning</th>\n",
       "      <td>258</td>\n",
       "      <td>15154</td>\n",
       "      <td>8.081243</td>\n",
       "      <td>4.040622</td>\n",
       "      <td>[78.0]</td>\n",
       "      <td>[78.0]</td>\n",
       "      <td>Network is not connected.</td>\n",
       "      <td>{0.0, 1.0, 2.0, 3.0, 5.0, 6.0, 7.0, 8.0, 9.0, ...</td>\n",
       "      <td>246</td>\n",
       "    </tr>\n",
       "    <tr>\n",
       "      <th>Morning Rush</th>\n",
       "      <td>255</td>\n",
       "      <td>14070</td>\n",
       "      <td>21.578302</td>\n",
       "      <td>10.789151</td>\n",
       "      <td>[160.0]</td>\n",
       "      <td>[235.0]</td>\n",
       "      <td>Network is not connected.</td>\n",
       "      <td>{0.0, 2.0, 3.0, 5.0, 6.0, 7.0, 8.0, 9.0, 10.0,...</td>\n",
       "      <td>239</td>\n",
       "    </tr>\n",
       "    <tr>\n",
       "      <th>Morning to Noon</th>\n",
       "      <td>252</td>\n",
       "      <td>11080</td>\n",
       "      <td>28.594104</td>\n",
       "      <td>14.297052</td>\n",
       "      <td>[236.0]</td>\n",
       "      <td>[235.0]</td>\n",
       "      <td>Network is not connected.</td>\n",
       "      <td>{2.0, 3.0, 5.0, 6.0, 8.0, 9.0, 10.0, 11.0, 12....</td>\n",
       "      <td>234</td>\n",
       "    </tr>\n",
       "    <tr>\n",
       "      <th>Afternoon</th>\n",
       "      <td>255</td>\n",
       "      <td>13389</td>\n",
       "      <td>31.936738</td>\n",
       "      <td>15.968369</td>\n",
       "      <td>[235.0]</td>\n",
       "      <td>[236.0]</td>\n",
       "      <td>Network is not connected.</td>\n",
       "      <td>{0.0, 1.0, 2.0, 3.0, 5.0, 6.0, 7.0, 8.0, 9.0, ...</td>\n",
       "      <td>246</td>\n",
       "    </tr>\n",
       "    <tr>\n",
       "      <th>Evening Rush</th>\n",
       "      <td>252</td>\n",
       "      <td>12076</td>\n",
       "      <td>39.766818</td>\n",
       "      <td>19.883409</td>\n",
       "      <td>[235.0]</td>\n",
       "      <td>[160.0]</td>\n",
       "      <td>Network is not connected.</td>\n",
       "      <td>{0.0, 2.0, 3.0, 5.0, 6.0, 7.0, 8.0, 9.0, 10.0,...</td>\n",
       "      <td>242</td>\n",
       "    </tr>\n",
       "    <tr>\n",
       "      <th>Night</th>\n",
       "      <td>258</td>\n",
       "      <td>14630</td>\n",
       "      <td>31.175839</td>\n",
       "      <td>15.587919</td>\n",
       "      <td>[235.0]</td>\n",
       "      <td>[160.0]</td>\n",
       "      <td>Network is not connected.</td>\n",
       "      <td>{1.0, 2.0, 3.0, 5.0, 6.0, 7.0, 8.0, 9.0, 10.0,...</td>\n",
       "      <td>247</td>\n",
       "    </tr>\n",
       "  </tbody>\n",
       "</table>\n",
       "</div>"
      ],
      "text/plain": [
       "                 Number of nodes  Number of edges  Average degree  \\\n",
       "Total                        260            25971       23.366514   \n",
       "Early Morning                258            15154        8.081243   \n",
       "Morning Rush                 255            14070       21.578302   \n",
       "Morning to Noon              252            11080       28.594104   \n",
       "Afternoon                    255            13389       31.936738   \n",
       "Evening Rush                 252            12076       39.766818   \n",
       "Night                        258            14630       31.175839   \n",
       "\n",
       "                 Average inout-degree  In_hubs Out_hubs  \\\n",
       "Total                       11.683257  [235.0]  [160.0]   \n",
       "Early Morning                4.040622   [78.0]   [78.0]   \n",
       "Morning Rush                10.789151  [160.0]  [235.0]   \n",
       "Morning to Noon             14.297052  [236.0]  [235.0]   \n",
       "Afternoon                   15.968369  [235.0]  [236.0]   \n",
       "Evening Rush                19.883409  [235.0]  [160.0]   \n",
       "Night                       15.587919  [235.0]  [160.0]   \n",
       "\n",
       "                                  Diameter  \\\n",
       "Total            Network is not connected.   \n",
       "Early Morning    Network is not connected.   \n",
       "Morning Rush     Network is not connected.   \n",
       "Morning to Noon  Network is not connected.   \n",
       "Afternoon        Network is not connected.   \n",
       "Evening Rush     Network is not connected.   \n",
       "Night            Network is not connected.   \n",
       "\n",
       "                                                 Largest component  \\\n",
       "Total            {0.0, 1.0, 2.0, 3.0, 5.0, 6.0, 7.0, 8.0, 9.0, ...   \n",
       "Early Morning    {0.0, 1.0, 2.0, 3.0, 5.0, 6.0, 7.0, 8.0, 9.0, ...   \n",
       "Morning Rush     {0.0, 2.0, 3.0, 5.0, 6.0, 7.0, 8.0, 9.0, 10.0,...   \n",
       "Morning to Noon  {2.0, 3.0, 5.0, 6.0, 8.0, 9.0, 10.0, 11.0, 12....   \n",
       "Afternoon        {0.0, 1.0, 2.0, 3.0, 5.0, 6.0, 7.0, 8.0, 9.0, ...   \n",
       "Evening Rush     {0.0, 2.0, 3.0, 5.0, 6.0, 7.0, 8.0, 9.0, 10.0,...   \n",
       "Night            {1.0, 2.0, 3.0, 5.0, 6.0, 7.0, 8.0, 9.0, 10.0,...   \n",
       "\n",
       "                 Size of largest component  \n",
       "Total                                  255  \n",
       "Early Morning                          246  \n",
       "Morning Rush                           239  \n",
       "Morning to Noon                        234  \n",
       "Afternoon                              246  \n",
       "Evening Rush                           242  \n",
       "Night                                  247  "
      ]
     },
     "execution_count": 40,
     "metadata": {},
     "output_type": "execute_result"
    }
   ],
   "source": [
    "df_statistics = pd.DataFrame(\n",
    "    [G_total_stats, G_earlymorning_stats, G_morningrush_stats, G_morningtonoon_stats, G_afternoon_stats, G_eveningrush_stats, G_night_stats],\n",
    "    index=[\"Total\", \"Early Morning\", \"Morning Rush\", \"Morning to Noon\", \"Afternoon\", \"Evening Rush\", \"Night\"]\n",
    ")\n",
    "df_statistics"
   ]
  },
  {
   "cell_type": "markdown",
   "metadata": {},
   "source": [
    "## plot"
   ]
  },
  {
   "cell_type": "code",
   "execution_count": 41,
   "metadata": {},
   "outputs": [
    {
     "data": {
      "image/png": "[encoded data removed]",
      "text/plain": [
       "<Figure size 1000x500 with 1 Axes>"
      ]
     },
     "metadata": {},
     "output_type": "display_data"
    }
   ],
   "source": [
    "with plt.style.context(\"fivethirtyeight\"), sns.plotting_context(context=\"poster\",font_scale=0.5):\n",
    "    fig,ax = plt.subplots(figsize=(10, 5))\n",
    "    fig.patch.set_facecolor('white')  # 设置整个图的背景颜色为白色\n",
    "    line = sns.lineplot(x=df_statistics.index, y=\"Average inout-degree\", data=df_statistics,marker = \"o\")\n",
    "    \n",
    "    ax.set_facecolor('white')    # 设置轴的边框颜色为白色\n",
    "    for spine in ax.spines.values():\n",
    "        spine.set_edgecolor('white')\n",
    "        \n",
    "    for x, y in zip(df_statistics.index, df_statistics[\"Average inout-degree\"]):\n",
    "        ax.text(x, y, f'{y:.2f}', color='black', ha='left')\n",
    "    plt.xlabel(\"Time Period\")\n",
    "    plt.ylabel(\"Average Inout-degree\")\n",
    "    plt.title(\"Average Inout-degree of Different Time Periods\",fontsize = 20,weight = \"bold\")\n",
    "    plt.tight_layout()\n",
    "    plt.savefig(\"output/plot/Average Inout-degree of Different Time Periods.svg\", bbox_inches=\"tight\", transparent=True)\n",
    "    plt.savefig(\"output/plot/Average Inout-degree of Different Time Periods.pdf\", bbox_inches=\"tight\", transparent=True)"
   ]
  },
  {
   "cell_type": "code",
   "execution_count": 42,
   "metadata": {},
   "outputs": [],
   "source": [
    "\n",
    "networks = [G_earlymorning, G_morningrush, G_morningtonoon, G_afternoon, G_eveningrush, G_night,G_total]  # replace with your actual networks\n",
    "titles = [\"Early Morning\", \"Morning Rush\", \"Morning to Noon\", \"Afternoon\", \"Evening Rush\", \"Night\",\"Total\"]  # replace with your actual titles\n",
    "\n",
    "def plot_degree(i,ax):\n",
    "    G = networks[i]\n",
    "    in_degree_sequence = [G.in_degree(node,weight = \"flow\") for node in G if G.in_degree(node,weight = \"flow\") > 0]\n",
    "    out_degree_sequence = [G.out_degree(node,weight = \"flow\") for node in G if G.out_degree(node,weight = \"flow\") > 0]\n",
    "\n",
    "    kmin_in = min(in_degree_sequence)\n",
    "    kmax_in = max(in_degree_sequence)\n",
    "    bin_edges_in = np.logspace(np.log10(kmin_in), np.log10(kmax_in), num=10)\n",
    "    density_in, _ = np.histogram(in_degree_sequence, bins=bin_edges_in, density=True)\n",
    "\n",
    "    kmin_out = min(out_degree_sequence)\n",
    "    kmax_out = max(out_degree_sequence)\n",
    "    bin_edges_out = np.logspace(np.log10(kmin_out), np.log10(kmax_out), num=10)\n",
    "    density_out, _ = np.histogram(out_degree_sequence, bins=bin_edges_out, density=True)\n",
    "\n",
    "    log_be_in = np.log10(bin_edges_in)\n",
    "    x_in = 10**((log_be_in[1:] + log_be_in[:-1])/2)\n",
    "    log_be_out = np.log10(bin_edges_out)\n",
    "    x_out = 10**((log_be_out[1:] + log_be_out[:-1])/2)\n",
    "\n",
    "    line1 = sns.lineplot(x=x_in, y=density_in, marker='o', label='In-degree', ax=ax,markersize = 7)\n",
    "    line2 = sns.lineplot(x=x_out, y=density_out, marker='o', label='Out-degree', ax=ax,markersize = 7)\n",
    "\n",
    "    ax.set_xscale('log')\n",
    "    ax.set_yscale('log')\n",
    "    ax.set_xlabel(r\"degree $k$\", fontsize=16)\n",
    "    ax.set_ylabel(r\"$P(k)$\", fontsize=16)\n",
    "    ax.set_title(titles[i])\n",
    "    # ax.legend()\n",
    "    return line1, line2"
   ]
  },
  {
   "cell_type": "code",
   "execution_count": 43,
   "metadata": {},
   "outputs": [],
   "source": [
    "# with plt.style.context(\"fivethirtyeight\"), sns.plotting_context(context=\"poster\",font_scale=0.5):\n",
    "#     fig, axs = plt.subplots(2, 3, figsize=(14,10))\n",
    "#     plt.suptitle(\"Degree Distribution of Different Time Periods\", fontsize=30, weight=\"bold\")\n",
    "#     plt.subplots_adjust(top = 0.9)\n",
    "#     fig.patch.set_facecolor('white')\n",
    "#     for i, ax in enumerate(axs.flatten()):\n",
    "#         ax.grid(False)\n",
    "#         (line1, line2) = plot_degree(i, ax)\n",
    "#         ax.set_facecolor('white')\n",
    "#         for spine in ax.spines.values():\n",
    "#             spine.set_edgecolor('white')\n",
    "#         # ax.legend().set_visible(False)\n",
    "    \n",
    "#     plt.tight_layout()\n",
    "# plt.savefig(\"output/plot/Degree distribution of different time periods.svg\",bbox_inches=\"tight\",transparent=True)\n",
    "# plt.savefig(\"output/plot/Degree distribution of different time periods.pdf\",bbox_inches=\"tight\",transparent=True)"
   ]
  },
  {
   "cell_type": "markdown",
   "metadata": {},
   "source": [
    "假设是直线，他们的幂指数为-1，不合理\n",
    "\n",
    "The change in slope (steepness) suggests a difference in the way in-degrees and out-degrees are distributed across the network during different times. \n",
    "\n",
    "There is a noticeable point around the degree range of 0.1 to 1 where the in-degree and out-degree distributions intersect. Below this point, the in-degree is generally higher than the out-degree, while above this point, the out-degree is higher than the in-degree. This transition point can be indicative of different underlying processes governing the degree distributions at lower and higher degrees.\n",
    "\n",
    "There are more nodes have small out degree, while more nodes have large in degree. 出去的话就是单个单个，但是进去的就是成群结队的多。转折点再degree 等于0.1-1之间。"
   ]
  },
  {
   "cell_type": "markdown",
   "metadata": {},
   "source": [
    "# Null model"
   ]
  },
  {
   "cell_type": "markdown",
   "metadata": {},
   "source": [
    "## configuration model"
   ]
  },
  {
   "cell_type": "code",
   "execution_count": 44,
   "metadata": {},
   "outputs": [],
   "source": [
    "\n",
    "# def configuration_model_directed(G):\n",
    "#     in_degrees = [G.in_degree(n) for n in G.nodes()]\n",
    "#     out_degrees = [G.out_degree(n) for n in G.nodes()]\n",
    "\n",
    "#     null_model = nx.directed_configuration_model(in_degrees, out_degrees)\n",
    "#     null_model = nx.DiGraph(null_model)    # 将生成的多重边图转换为简单图\n",
    "\n",
    "#     # 随机分配边的权重\n",
    "#     original_weights = [data['flow'] for _, _, data in G.edges(data=True)]\n",
    "#     for (u, v, data) in null_model.edges(data=True):\n",
    "#         data['flow'] = random.choice(original_weights)\n",
    "\n",
    "#     return null_model\n",
    "\n",
    "# config_model = configuration_model_directed(G_total)\n",
    "\n",
    "# # print(\"Edges and weights in the null model:\")\n",
    "# # for (u, v, data) in config_model.edges(data=True):\n",
    "# #     print(f\"({u}, {v}, {data['flow']})\")\n"
   ]
  },
  {
   "cell_type": "markdown",
   "metadata": {},
   "source": [
    "## Degree-Preserving Randomization"
   ]
  },
  {
   "cell_type": "code",
   "execution_count": 45,
   "metadata": {},
   "outputs": [],
   "source": [
    "import copy\n",
    "\n",
    "def degree_preserving_randomization(G, iterations=1000):\n",
    "    # Copy the original graph to keep degree distribution intact\n",
    "    null_model = copy.deepcopy(G)\n",
    "    \n",
    "    edges = list(null_model.edges(data=True))\n",
    "    num_edges = len(edges)\n",
    "    \n",
    "    for _ in range(iterations):\n",
    "        # Randomly select two edges\n",
    "        i, j = random.sample(range(num_edges), 2)\n",
    "        (u1, v1, data1) = edges[i]\n",
    "        (u2, v2, data2) = edges[j]\n",
    "        \n",
    "        # Swap endpoints to preserve degree distribution\n",
    "        if u1 != u2 and v1 != v2 and not null_model.has_edge(u1, v2) and not null_model.has_edge(u2, v1):\n",
    "            null_model.remove_edge(u1, v1)\n",
    "            null_model.remove_edge(u2, v2)\n",
    "            null_model.add_edge(u1, v2, flow=data1['flow'])\n",
    "            null_model.add_edge(u2, v1, flow=data2['flow'])\n",
    "            \n",
    "            # Update edge list\n",
    "            edges[i] = (u1, v2, data1)\n",
    "            edges[j] = (u2, v1, data2)\n",
    "\n",
    "    # Shuffle the weights randomly\n",
    "    weights = [data['flow'] for _, _, data in null_model.edges(data=True)]\n",
    "    random.shuffle(weights)\n",
    "    \n",
    "    for (u, v, data), weight in zip(null_model.edges(data=True), weights):\n",
    "        data['flow'] = weight\n",
    "\n",
    "    return null_model\n",
    "\n",
    "\n",
    "random_swap_model = degree_preserving_randomization(G_total, iterations=1000)\n",
    "\n",
    "# print(\"Edges and weights in the null model:\")\n",
    "# for (u, v, data) in random_swap_model.edges(data=True):\n",
    "#     print(f\"({u}, {v}, {data['flow']})\")\n"
   ]
  },
  {
   "cell_type": "markdown",
   "metadata": {},
   "source": [
    "# Structure"
   ]
  },
  {
   "cell_type": "markdown",
   "metadata": {},
   "source": [
    "## Clustering coefficient"
   ]
  },
  {
   "cell_type": "markdown",
   "metadata": {},
   "source": [
    "在有向图中，节点i的聚类系数定义为所有可能的有向三元组（即i -> j, j -> k, k -> i）的比例，其中j和k是i的邻居。一个有向三元组是一个节点对的有序三元组。nx.average_clustering()函数默认会将有向图视为无向图进行计算。"
   ]
  },
  {
   "cell_type": "code",
   "execution_count": 46,
   "metadata": {},
   "outputs": [],
   "source": [
    "# # avg_clustering = nx.average_clustering(G, count_zeros=False)\n",
    "# G_total_avcl = nx.average_clustering(G_total,weight=\"flow\")\n",
    "# # config_avcl = nx.average_clustering(config_model,weight=\"flow\")\n",
    "# random_swap_avcl = nx.average_clustering(random_swap_model,weight=\"flow\")\n",
    "\n",
    "# G_total_cl = nx.clustering(G_total,weight=\"flow\")\n",
    "# # config_cl = nx.clustering(config_model,weight=\"flow\")\n",
    "# random_swap_cl = nx.clustering(random_swap_model,weight=\"flow\")"
   ]
  },
  {
   "cell_type": "code",
   "execution_count": 47,
   "metadata": {},
   "outputs": [],
   "source": [
    "# # 提取聚类系数和度数\n",
    "# G_total_degrees = [deg for node, deg in G_total.in_degree(weight=\"flow\")]\n",
    "# G_total_cl_values = list(G_total_cl.values())\n",
    "\n",
    "# # config_degrees = [deg for node, deg in config_model.in_degree(weight=\"flow\")]\n",
    "# # config_cl_values = list(config_cl.values())\n",
    "\n",
    "# random_swap_degrees = [deg for node, deg in random_swap_model.in_degree(weight=\"flow\")]\n",
    "# random_swap_cl_values = list(random_swap_cl.values())"
   ]
  },
  {
   "cell_type": "code",
   "execution_count": 48,
   "metadata": {},
   "outputs": [],
   "source": [
    "# plt.style.available"
   ]
  },
  {
   "cell_type": "code",
   "execution_count": 49,
   "metadata": {},
   "outputs": [],
   "source": [
    "# with plt.style.context(\"fivethirtyeight\"), sns.plotting_context(context=\"poster\",font_scale=0.5):\n",
    "#     fig, ax = plt.subplots(figsize=(7, 5))\n",
    "#     fig.patch.set_facecolor('white')\n",
    "#     ax.set_facecolor('white')\n",
    "#     for spine in ax.spines.values():\n",
    "#         spine.set_edgecolor('white')\n",
    "\n",
    "#     plt.scatter(G_total_degrees, G_total_cl_values, alpha=0.5, label='G_total')\n",
    "#     # plt.scatter(config_degrees, config_cl_values, alpha=0.5, label='config_model')\n",
    "#     plt.scatter(random_swap_degrees, random_swap_cl_values, alpha=0.5, label='random_swap_model')\n",
    "\n",
    "#     plt.xlabel('Degree ($k$)')\n",
    "#     plt.ylabel('Clustering Coefficient $C(k)$')\n",
    "#     plt.title('Scatter plot of Clustering Coefficient vs Degree',fontsize = 20,weight = \"bold\")\n",
    "#     plt.tight_layout()\n",
    "#     plt.grid(False)\n",
    "#     # plt.legend([f\"Original network ($<C>$ = {G_total_avcl:2f})\", f\"Configuration model ($<C>$ = {config_avcl:2f})\",f\"Degree preserve random ($<C>$ = {config_avcl:2f})\"],loc = \"lower right\",frameon = True)\n",
    "#     plt.legend([f\"Original network ($<C>$ = {G_total_avcl:2f})\",f\"Degree preserve random ($<C>$ = {random_swap_avcl:2f})\"],loc = \"lower right\",frameon = True)\n",
    "#     # plt.show()\n",
    "#     plt.tight_layout()\n",
    "#     plt.savefig(\"output/plot/Clustering Coefficient vs Degree.svg\",bbox_inches=\"tight\",transparent=True)\n",
    "#     plt.savefig(\"output/plot/Clustering Coefficient vs Degree.pdf\",bbox_inches=\"tight\",transparent=True)\n"
   ]
  },
  {
   "cell_type": "markdown",
   "metadata": {},
   "source": [
    "For 6 networks"
   ]
  },
  {
   "cell_type": "code",
   "execution_count": 50,
   "metadata": {},
   "outputs": [],
   "source": [
    "# G_total_avcl = nx.average_clustering(G_total,weight=\"flow\")\n",
    "# G_earlymorning_avcl = nx.average_clustering(G_earlymorning,weight=\"flow\")\n",
    "# G_morningrush_avcl = nx.average_clustering(G_morningrush,weight=\"flow\")\n",
    "# G_morningtonoon_avcl = nx.average_clustering(G_morningtonoon,weight=\"flow\")\n",
    "# G_afternoon_avcl = nx.average_clustering(G_afternoon,weight=\"flow\")\n",
    "# G_eveningrush_avcl = nx.average_clustering(G_eveningrush,weight=\"flow\")\n",
    "# G_night_avcl = nx.average_clustering(G_night,weight=\"flow\")\n"
   ]
  },
  {
   "cell_type": "code",
   "execution_count": 51,
   "metadata": {},
   "outputs": [
    {
     "name": "stdout",
     "output_type": "stream",
     "text": [
      "Average clustering coefficient of the total network: 0.0008061805452651452\n",
      "Average clustering coefficient of the early morning network: 0.002619084466701479\n",
      "Average clustering coefficient of the morning rush network: 0.0012166901246307984\n",
      "Average clustering coefficient of the morning to noon network: 0.001313408868252395\n",
      "Average clustering coefficient of the afternoon network: 0.0011170801184162173\n",
      "Average clustering coefficient of the evening rush network: 0.0017199164843084062\n",
      "Average clustering coefficient of the night network: 0.002182097694896068\n"
     ]
    }
   ],
   "source": [
    "# print(\n",
    "#     f\"Average clustering coefficient of the total network: {G_total_avcl}\\n\"\n",
    "#     f\"Average clustering coefficient of the early morning network: {G_earlymorning_avcl}\\n\"\n",
    "#     f\"Average clustering coefficient of the morning rush network: {G_morningrush_avcl}\\n\"\n",
    "#     f\"Average clustering coefficient of the morning to noon network: {G_morningtonoon_avcl}\\n\"\n",
    "#     f\"Average clustering coefficient of the afternoon network: {G_afternoon_avcl}\\n\"\n",
    "#     f\"Average clustering coefficient of the evening rush network: {G_eveningrush_avcl}\\n\"\n",
    "#     f\"Average clustering coefficient of the night network: {G_night_avcl}\"\n",
    "# )"
   ]
  },
  {
   "cell_type": "markdown",
   "metadata": {},
   "source": [
    "Average clustering coefficient of the total network: 0.0008061805452651452\n",
    "\n",
    "Average clustering coefficient of the early morning network: 0.002619084466701479\n",
    "\n",
    "Average clustering coefficient of the morning rush network: 0.0012166901246307984\n",
    "\n",
    "Average clustering coefficient of the morning to noon network: 0.001313408868252395\n",
    "\n",
    "Average clustering coefficient of the afternoon network: 0.0011170801184162173\n",
    "\n",
    "Average clustering coefficient of the evening rush network: 0.0017199164843084062\n",
    "\n",
    "Average clustering coefficient of the night network: 0.002182097694896068"
   ]
  },
  {
   "cell_type": "markdown",
   "metadata": {},
   "source": [
    "## Betweeen centrality"
   ]
  },
  {
   "cell_type": "code",
   "execution_count": null,
   "metadata": {},
   "outputs": [],
   "source": [
    "# G_total_bc = nx.betweenness_centrality(G_total,weight=\"flow\")\n",
    "# config_bc = nx.betweenness_centrality(config_model,weight=\"flow\")\n",
    "# random_swap_bc = nx.betweenness_centrality(random_swap_model,weight=\"flow\")\n",
    "\n",
    "# G_earlymorning_bc = nx.betweenness_centrality(G_total,weight=\"flow\")\n",
    "# G_morningrush_bc = nx.betweenness_centrality(G_morningrush_bc,weight=\"flow\")\n",
    "# G_morningtonoon_bc = nx.betweenness_centrality(G_morningtonoon_bc,weight=\"flow\")\n",
    "# G_afternoon_bc = nx.betweenness_centrality(G_afternoon_bc,weight=\"flow\")\n",
    "# G_eveningrush_bc = nx.betweenness_centrality(G_eveningrush_bc,weight=\"flow\")\n",
    "# G_night_bc = nx.betweenness_centrality(G_night_bc,weight=\"flow\")\n",
    "\n"
   ]
  },
  {
   "cell_type": "code",
   "execution_count": null,
   "metadata": {},
   "outputs": [],
   "source": [
    "# G_total_bc_values = list(G_total_bc.values())\n",
    "# config_bc_values = list(config_bc.values())\n",
    "# random_swap_bc_values = list(random_swap_bc.values())\n"
   ]
  },
  {
   "cell_type": "code",
   "execution_count": null,
   "metadata": {},
   "outputs": [],
   "source": [
    "# nx.draw(G_total, node_size=[v * 1000 for v in G_total_bc_values])"
   ]
  },
  {
   "cell_type": "markdown",
   "metadata": {},
   "source": [
    "# Community"
   ]
  },
  {
   "cell_type": "markdown",
   "metadata": {},
   "source": [
    "## detect partition"
   ]
  },
  {
   "cell_type": "markdown",
   "metadata": {},
   "source": []
  },
  {
   "cell_type": "code",
   "execution_count": null,
   "metadata": {},
   "outputs": [
    {
     "data": {
      "text/plain": [
       "4"
      ]
     },
     "execution_count": 34,
     "metadata": {},
     "output_type": "execute_result"
    }
   ],
   "source": [
    "# len(partition)\n",
    "\n",
    "# # Add community to node attributes\n",
    "# for i, comm in enumerate(partition):\n",
    "#     for node in comm:\n",
    "#         G_total.nodes[node]['community'] = i\n",
    "\n",
    "# Write to GEXF file\n",
    "# nx.write_gexf(G_total, 'data/total/NYCTAXI_OD_Total.gexf')\n",
    "# nx.community.quality.modularity(G_total, total_partition,weight = \"flow\")"
   ]
  },
  {
   "cell_type": "code",
   "execution_count": 53,
   "metadata": {},
   "outputs": [
    {
     "ename": "TypeError",
     "evalue": "Bad graph type, use only non directed graph",
     "output_type": "error",
     "traceback": [
      "\u001b[1;31m---------------------------------------------------------------------------\u001b[0m",
      "\u001b[1;31mTypeError\u001b[0m                                 Traceback (most recent call last)",
      "Cell \u001b[1;32mIn[53], line 52\u001b[0m\n\u001b[0;32m     45\u001b[0m     \u001b[38;5;28;01mreturn\u001b[39;00m {\n\u001b[0;32m     46\u001b[0m         \u001b[38;5;124m'\u001b[39m\u001b[38;5;124mLouvain\u001b[39m\u001b[38;5;124m'\u001b[39m: \u001b[38;5;28mlen\u001b[39m(communities_louvain),\n\u001b[0;32m     47\u001b[0m         \u001b[38;5;124m'\u001b[39m\u001b[38;5;124mInfomap\u001b[39m\u001b[38;5;124m'\u001b[39m: \u001b[38;5;28mlen\u001b[39m(communities_infomap),\n\u001b[0;32m     48\u001b[0m         \u001b[38;5;124m'\u001b[39m\u001b[38;5;124mWalktrap\u001b[39m\u001b[38;5;124m'\u001b[39m: \u001b[38;5;28mlen\u001b[39m(communities_walktrap\u001b[38;5;241m.\u001b[39mcommunities)\n\u001b[0;32m     49\u001b[0m     }\n\u001b[0;32m     51\u001b[0m \u001b[38;5;66;03m# Example usage\u001b[39;00m\n\u001b[1;32m---> 52\u001b[0m community_counts \u001b[38;5;241m=\u001b[39m community_detection_with_algorithms(G_total)\n\u001b[0;32m     53\u001b[0m \u001b[38;5;28mprint\u001b[39m(\u001b[38;5;124mf\u001b[39m\u001b[38;5;124m\"\u001b[39m\u001b[38;5;124mNumber of communities detected by Louvain: \u001b[39m\u001b[38;5;132;01m{\u001b[39;00mcommunity_counts[\u001b[38;5;124m'\u001b[39m\u001b[38;5;124mLouvain\u001b[39m\u001b[38;5;124m'\u001b[39m]\u001b[38;5;132;01m}\u001b[39;00m\u001b[38;5;124m\"\u001b[39m)\n\u001b[0;32m     54\u001b[0m \u001b[38;5;28mprint\u001b[39m(\u001b[38;5;124mf\u001b[39m\u001b[38;5;124m\"\u001b[39m\u001b[38;5;124mNumber of communities detected by Infomap: \u001b[39m\u001b[38;5;132;01m{\u001b[39;00mcommunity_counts[\u001b[38;5;124m'\u001b[39m\u001b[38;5;124mInfomap\u001b[39m\u001b[38;5;124m'\u001b[39m]\u001b[38;5;132;01m}\u001b[39;00m\u001b[38;5;124m\"\u001b[39m)\n",
      "Cell \u001b[1;32mIn[53], line 3\u001b[0m, in \u001b[0;36mcommunity_detection_with_algorithms\u001b[1;34m(G)\u001b[0m\n\u001b[0;32m      1\u001b[0m \u001b[38;5;28;01mdef\u001b[39;00m \u001b[38;5;21mcommunity_detection_with_algorithms\u001b[39m(G):\n\u001b[0;32m      2\u001b[0m     \u001b[38;5;66;03m# Louvain\u001b[39;00m\n\u001b[1;32m----> 3\u001b[0m     partition_louvain \u001b[38;5;241m=\u001b[39m community_louvain\u001b[38;5;241m.\u001b[39mbest_partition(G, weight\u001b[38;5;241m=\u001b[39m\u001b[38;5;124m'\u001b[39m\u001b[38;5;124mweight\u001b[39m\u001b[38;5;124m'\u001b[39m)\n\u001b[0;32m      4\u001b[0m     nx\u001b[38;5;241m.\u001b[39mset_node_attributes(G, partition_louvain, \u001b[38;5;124m'\u001b[39m\u001b[38;5;124mlouvain\u001b[39m\u001b[38;5;124m'\u001b[39m)\n\u001b[0;32m      6\u001b[0m     \u001b[38;5;66;03m# Convert Louvain partition to communities\u001b[39;00m\n",
      "File \u001b[1;32md:\\Python\\Lib\\site-packages\\community\\community_louvain.py:249\u001b[0m, in \u001b[0;36mbest_partition\u001b[1;34m(graph, partition, weight, resolution, randomize, random_state)\u001b[0m\n\u001b[0;32m    163\u001b[0m \u001b[38;5;28;01mdef\u001b[39;00m \u001b[38;5;21mbest_partition\u001b[39m(graph,\n\u001b[0;32m    164\u001b[0m                    partition\u001b[38;5;241m=\u001b[39m\u001b[38;5;28;01mNone\u001b[39;00m,\n\u001b[0;32m    165\u001b[0m                    weight\u001b[38;5;241m=\u001b[39m\u001b[38;5;124m'\u001b[39m\u001b[38;5;124mweight\u001b[39m\u001b[38;5;124m'\u001b[39m,\n\u001b[0;32m    166\u001b[0m                    resolution\u001b[38;5;241m=\u001b[39m\u001b[38;5;241m1.\u001b[39m,\n\u001b[0;32m    167\u001b[0m                    randomize\u001b[38;5;241m=\u001b[39m\u001b[38;5;28;01mNone\u001b[39;00m,\n\u001b[0;32m    168\u001b[0m                    random_state\u001b[38;5;241m=\u001b[39m\u001b[38;5;28;01mNone\u001b[39;00m):\n\u001b[0;32m    169\u001b[0m \u001b[38;5;250m    \u001b[39m\u001b[38;5;124;03m\"\"\"Compute the partition of the graph nodes which maximises the modularity\u001b[39;00m\n\u001b[0;32m    170\u001b[0m \u001b[38;5;124;03m    (or try..) using the Louvain heuristices\u001b[39;00m\n\u001b[0;32m    171\u001b[0m \n\u001b[1;32m   (...)\u001b[0m\n\u001b[0;32m    247\u001b[0m \u001b[38;5;124;03m    >>> plt.show()\u001b[39;00m\n\u001b[0;32m    248\u001b[0m \u001b[38;5;124;03m    \"\"\"\u001b[39;00m\n\u001b[1;32m--> 249\u001b[0m     dendo \u001b[38;5;241m=\u001b[39m generate_dendrogram(graph,\n\u001b[0;32m    250\u001b[0m                                 partition,\n\u001b[0;32m    251\u001b[0m                                 weight,\n\u001b[0;32m    252\u001b[0m                                 resolution,\n\u001b[0;32m    253\u001b[0m                                 randomize,\n\u001b[0;32m    254\u001b[0m                                 random_state)\n\u001b[0;32m    255\u001b[0m     \u001b[38;5;28;01mreturn\u001b[39;00m partition_at_level(dendo, \u001b[38;5;28mlen\u001b[39m(dendo) \u001b[38;5;241m-\u001b[39m \u001b[38;5;241m1\u001b[39m)\n",
      "File \u001b[1;32md:\\Python\\Lib\\site-packages\\community\\community_louvain.py:322\u001b[0m, in \u001b[0;36mgenerate_dendrogram\u001b[1;34m(graph, part_init, weight, resolution, randomize, random_state)\u001b[0m\n\u001b[0;32m    264\u001b[0m \u001b[38;5;250m\u001b[39m\u001b[38;5;124;03m\"\"\"Find communities in the graph and return the associated dendrogram\u001b[39;00m\n\u001b[0;32m    265\u001b[0m \n\u001b[0;32m    266\u001b[0m \u001b[38;5;124;03mA dendrogram is a tree and each level is a partition of the graph nodes.\u001b[39;00m\n\u001b[1;32m   (...)\u001b[0m\n\u001b[0;32m    319\u001b[0m \u001b[38;5;124;03m:type weight:\u001b[39;00m\n\u001b[0;32m    320\u001b[0m \u001b[38;5;124;03m\"\"\"\u001b[39;00m\n\u001b[0;32m    321\u001b[0m \u001b[38;5;28;01mif\u001b[39;00m graph\u001b[38;5;241m.\u001b[39mis_directed():\n\u001b[1;32m--> 322\u001b[0m     \u001b[38;5;28;01mraise\u001b[39;00m \u001b[38;5;167;01mTypeError\u001b[39;00m(\u001b[38;5;124m\"\u001b[39m\u001b[38;5;124mBad graph type, use only non directed graph\u001b[39m\u001b[38;5;124m\"\u001b[39m)\n\u001b[0;32m    324\u001b[0m \u001b[38;5;66;03m# Properly handle random state, eventually remove old `randomize` parameter\u001b[39;00m\n\u001b[0;32m    325\u001b[0m \u001b[38;5;66;03m# NOTE: when `randomize` is removed, delete code up to random_state = ...\u001b[39;00m\n\u001b[0;32m    326\u001b[0m \u001b[38;5;28;01mif\u001b[39;00m randomize \u001b[38;5;129;01mis\u001b[39;00m \u001b[38;5;129;01mnot\u001b[39;00m \u001b[38;5;28;01mNone\u001b[39;00m:\n",
      "\u001b[1;31mTypeError\u001b[0m: Bad graph type, use only non directed graph"
     ]
    }
   ],
   "source": [
    "def community_detection_with_algorithms(G):\n",
    "    partition_louvain = nx.community.louvain_communities(G_total, seed=123)\n",
    "    modularity_louvain = nx.community.quality.modularity(G_total, partition_louvain,weight = \"flow\")\n",
    "    print(f\"Louvain Modularity: {modularity_louvain}\")\n",
    "\n",
    "    communities_louvain = {}\n",
    "\n",
    "    # # Infomap\n",
    "    # infomap = Infomap()\n",
    "    # for e in G.edges(data=True):\n",
    "    #     infomap.addLink(e[0], e[1], e[2]['weight'])\n",
    "    # infomap.run()\n",
    "\n",
    "    # # Calculate modularity for Infomap\n",
    "    # modularity_infomap = nx_modularity(G, communities_infomap, weight='weight')\n",
    "    # print(f\"Infomap Modularity: {modularity_infomap}\")\n",
    "\n",
    "    return {\n",
    "        'Louvain': len(communities_louvain),\n",
    "        'Infomap': len(communities_infomap),\n",
    "    }\n",
    "\n",
    "# Example usage\n",
    "community_counts = community_detection_with_algorithms(G_total)\n",
    "print(f\"Number of communities detected by Louvain: {community_counts['Louvain']}\")\n",
    "print(f\"Number of communities detected by Infomap: {community_counts['Infomap']}\")\n"
   ]
  },
  {
   "cell_type": "code",
   "execution_count": 51,
   "metadata": {},
   "outputs": [],
   "source": [
    "# pip install infomap"
   ]
  },
  {
   "cell_type": "markdown",
   "metadata": {},
   "source": [
    "### save total partition to geo"
   ]
  },
  {
   "cell_type": "code",
   "execution_count": 38,
   "metadata": {},
   "outputs": [],
   "source": [
    "for i, comm in enumerate(partition):\n",
    "    for node in comm:\n",
    "        geo.loc[geo[\"geo_id\"]==node,\"community\"] = str(i)"
   ]
  },
  {
   "cell_type": "code",
   "execution_count": 39,
   "metadata": {},
   "outputs": [],
   "source": [
    "geo[[\"geo_id\",\"community\"]].to_csv(\"data/geo_communuities.csv\",index=False)"
   ]
  },
  {
   "cell_type": "code",
   "execution_count": 40,
   "metadata": {},
   "outputs": [
    {
     "data": {
      "text/plain": [
       "community\n",
       "0    186\n",
       "1     36\n",
       "2     27\n",
       "3     11\n",
       "Name: count, dtype: int64"
      ]
     },
     "execution_count": 40,
     "metadata": {},
     "output_type": "execute_result"
    }
   ],
   "source": [
    "geo[\"community\"].value_counts()"
   ]
  }
 ],
 "metadata": {
  "kernelspec": {
   "display_name": "Python 3",
   "language": "python",
   "name": "python3"
  },
  "language_info": {
   "codemirror_mode": {
    "name": "ipython",
    "version": 3
   },
   "file_extension": ".py",
   "mimetype": "text/x-python",
   "name": "python",
   "nbconvert_exporter": "python",
   "pygments_lexer": "ipython3",
   "version": "3.11.5"
  }
 },
 "nbformat": 4,
 "nbformat_minor": 2
}

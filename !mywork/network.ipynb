{
 "cells": [
  {
   "cell_type": "markdown",
   "metadata": {},
   "source": [
    "# Preparation"
   ]
  },
  {
   "cell_type": "code",
   "execution_count": 12,
   "metadata": {},
   "outputs": [],
   "source": [
    "import pandas as pd\n",
    "import networkx as nx\n",
    "import netwulf as nw\n",
    "import matplotlib.pyplot as plt\n",
    "import seaborn as sns\n"
   ]
  },
  {
   "cell_type": "code",
   "execution_count": 2,
   "metadata": {},
   "outputs": [
    {
     "data": {
      "text/html": [
       "<div>\n",
       "<style scoped>\n",
       "    .dataframe tbody tr th:only-of-type {\n",
       "        vertical-align: middle;\n",
       "    }\n",
       "\n",
       "    .dataframe tbody tr th {\n",
       "        vertical-align: top;\n",
       "    }\n",
       "\n",
       "    .dataframe thead th {\n",
       "        text-align: right;\n",
       "    }\n",
       "</style>\n",
       "<table border=\"1\" class=\"dataframe\">\n",
       "  <thead>\n",
       "    <tr style=\"text-align: right;\">\n",
       "      <th></th>\n",
       "      <th>rel_id</th>\n",
       "      <th>type</th>\n",
       "      <th>origin_id</th>\n",
       "      <th>destination_id</th>\n",
       "      <th>cost</th>\n",
       "    </tr>\n",
       "  </thead>\n",
       "  <tbody>\n",
       "    <tr>\n",
       "      <th>0</th>\n",
       "      <td>0</td>\n",
       "      <td>geo</td>\n",
       "      <td>0</td>\n",
       "      <td>0</td>\n",
       "      <td>0.0</td>\n",
       "    </tr>\n",
       "    <tr>\n",
       "      <th>1</th>\n",
       "      <td>1</td>\n",
       "      <td>geo</td>\n",
       "      <td>0</td>\n",
       "      <td>1</td>\n",
       "      <td>31349.0</td>\n",
       "    </tr>\n",
       "    <tr>\n",
       "      <th>2</th>\n",
       "      <td>2</td>\n",
       "      <td>geo</td>\n",
       "      <td>0</td>\n",
       "      <td>2</td>\n",
       "      <td>33747.0</td>\n",
       "    </tr>\n",
       "    <tr>\n",
       "      <th>3</th>\n",
       "      <td>3</td>\n",
       "      <td>geo</td>\n",
       "      <td>0</td>\n",
       "      <td>3</td>\n",
       "      <td>17205.0</td>\n",
       "    </tr>\n",
       "    <tr>\n",
       "      <th>4</th>\n",
       "      <td>4</td>\n",
       "      <td>geo</td>\n",
       "      <td>0</td>\n",
       "      <td>4</td>\n",
       "      <td>14927.0</td>\n",
       "    </tr>\n",
       "  </tbody>\n",
       "</table>\n",
       "</div>"
      ],
      "text/plain": [
       "   rel_id type  origin_id  destination_id     cost\n",
       "0       0  geo          0               0      0.0\n",
       "1       1  geo          0               1  31349.0\n",
       "2       2  geo          0               2  33747.0\n",
       "3       3  geo          0               3  17205.0\n",
       "4       4  geo          0               4  14927.0"
      ]
     },
     "execution_count": 2,
     "metadata": {},
     "output_type": "execute_result"
    }
   ],
   "source": [
    "rel = pd.read_csv(\"data/NYCTAXI202401-202403.rel\")\n",
    "rel.head()"
   ]
  },
  {
   "cell_type": "code",
   "execution_count": 3,
   "metadata": {},
   "outputs": [],
   "source": [
    "df_total = pd.read_csv(\"data/total/NYCTAXI_OD_Total.csv\")\n",
    "\n",
    "df_morningrush = pd.read_csv(\"data/timeperiod/NYCTAXI_OD_Morning Rush.csv\")\n",
    "df_morning = pd.read_csv(\"data/timeperiod/NYCTAXI_OD_Morning.csv\")\n",
    "df_noon = pd.read_csv(\"data/timeperiod/NYCTAXI_OD_Noon.csv\")\n",
    "df_afternoon = pd.read_csv(\"data/timeperiod/NYCTAXI_OD_Afternoon.csv\")\n",
    "df_eveningrush = pd.read_csv(\"data/timeperiod/NYCTAXI_OD_Evening Rush.csv\")\n",
    "df_night = pd.read_csv(\"data/timeperiod/NYCTAXI_OD_Night.csv\")\n",
    "\n",
    "# df_total[\"flow\"].value_counts()\n",
    "# df_total[\"origin_id\"].nunique()"
   ]
  },
  {
   "cell_type": "code",
   "execution_count": 22,
   "metadata": {},
   "outputs": [
    {
     "data": {
      "text/html": [
       "<div>\n",
       "<style scoped>\n",
       "    .dataframe tbody tr th:only-of-type {\n",
       "        vertical-align: middle;\n",
       "    }\n",
       "\n",
       "    .dataframe tbody tr th {\n",
       "        vertical-align: top;\n",
       "    }\n",
       "\n",
       "    .dataframe thead th {\n",
       "        text-align: right;\n",
       "    }\n",
       "</style>\n",
       "<table border=\"1\" class=\"dataframe\">\n",
       "  <thead>\n",
       "    <tr style=\"text-align: right;\">\n",
       "      <th></th>\n",
       "      <th>origin_id</th>\n",
       "      <th>destination_id</th>\n",
       "      <th>flow</th>\n",
       "    </tr>\n",
       "  </thead>\n",
       "  <tbody>\n",
       "    <tr>\n",
       "      <th>0</th>\n",
       "      <td>0</td>\n",
       "      <td>47</td>\n",
       "      <td>1.000000</td>\n",
       "    </tr>\n",
       "    <tr>\n",
       "      <th>1</th>\n",
       "      <td>0</td>\n",
       "      <td>99</td>\n",
       "      <td>1.000000</td>\n",
       "    </tr>\n",
       "    <tr>\n",
       "      <th>2</th>\n",
       "      <td>0</td>\n",
       "      <td>186</td>\n",
       "      <td>1.000000</td>\n",
       "    </tr>\n",
       "    <tr>\n",
       "      <th>3</th>\n",
       "      <td>0</td>\n",
       "      <td>208</td>\n",
       "      <td>1.000000</td>\n",
       "    </tr>\n",
       "    <tr>\n",
       "      <th>4</th>\n",
       "      <td>0</td>\n",
       "      <td>230</td>\n",
       "      <td>1.000000</td>\n",
       "    </tr>\n",
       "    <tr>\n",
       "      <th>...</th>\n",
       "      <td>...</td>\n",
       "      <td>...</td>\n",
       "      <td>...</td>\n",
       "    </tr>\n",
       "    <tr>\n",
       "      <th>25966</th>\n",
       "      <td>262</td>\n",
       "      <td>257</td>\n",
       "      <td>1.250000</td>\n",
       "    </tr>\n",
       "    <tr>\n",
       "      <th>25967</th>\n",
       "      <td>262</td>\n",
       "      <td>258</td>\n",
       "      <td>1.000000</td>\n",
       "    </tr>\n",
       "    <tr>\n",
       "      <th>25968</th>\n",
       "      <td>262</td>\n",
       "      <td>259</td>\n",
       "      <td>1.054054</td>\n",
       "    </tr>\n",
       "    <tr>\n",
       "      <th>25969</th>\n",
       "      <td>262</td>\n",
       "      <td>260</td>\n",
       "      <td>1.093525</td>\n",
       "    </tr>\n",
       "    <tr>\n",
       "      <th>25970</th>\n",
       "      <td>262</td>\n",
       "      <td>261</td>\n",
       "      <td>4.541197</td>\n",
       "    </tr>\n",
       "  </tbody>\n",
       "</table>\n",
       "<p>25971 rows × 3 columns</p>\n",
       "</div>"
      ],
      "text/plain": [
       "       origin_id  destination_id      flow\n",
       "0              0              47  1.000000\n",
       "1              0              99  1.000000\n",
       "2              0             186  1.000000\n",
       "3              0             208  1.000000\n",
       "4              0             230  1.000000\n",
       "...          ...             ...       ...\n",
       "25966        262             257  1.250000\n",
       "25967        262             258  1.000000\n",
       "25968        262             259  1.054054\n",
       "25969        262             260  1.093525\n",
       "25970        262             261  4.541197\n",
       "\n",
       "[25971 rows x 3 columns]"
      ]
     },
     "execution_count": 22,
     "metadata": {},
     "output_type": "execute_result"
    }
   ],
   "source": [
    "df_total"
   ]
  },
  {
   "cell_type": "markdown",
   "metadata": {},
   "source": [
    "# Construct network"
   ]
  },
  {
   "cell_type": "code",
   "execution_count": 4,
   "metadata": {},
   "outputs": [],
   "source": [
    "G_morningrush = nx.DiGraph()\n",
    "G_morning = nx.DiGraph()\n",
    "G_noon = nx.DiGraph()\n",
    "G_afternoon = nx.DiGraph()\n",
    "G_eveningrush = nx.DiGraph()\n",
    "G_night = nx.DiGraph()\n",
    "\n",
    "G_total = nx.DiGraph()\n"
   ]
  },
  {
   "cell_type": "code",
   "execution_count": 5,
   "metadata": {},
   "outputs": [],
   "source": [
    "def construct_graph(G, df):\n",
    "    for i, row in df.iterrows():\n",
    "        G.add_edge(row[\"origin_id\"], row[\"destination_id\"], flow=row[\"flow\"])\n",
    "    G.add_nodes_from(rel[\"origin_id\"].unique())\n",
    "    \n",
    "construct_graph(G_total, df_total)\n",
    "construct_graph(G_morningrush, df_morningrush)\n",
    "construct_graph(G_morning, df_morning)\n",
    "construct_graph(G_noon, df_noon)\n",
    "construct_graph(G_afternoon, df_afternoon)\n",
    "construct_graph(G_eveningrush, df_eveningrush)\n",
    "construct_graph(G_night, df_night)\n"
   ]
  },
  {
   "cell_type": "code",
   "execution_count": 6,
   "metadata": {},
   "outputs": [],
   "source": [
    "# nx.write_gexf(G_total,\"data/total/NYCTAXI_OD_Total.gexf\")\n",
    "\n",
    "# nx.write_gexf(G_morningrush,\"data/timeperiod/NYCTAXI_OD_Morning Rush.gexf\")\n",
    "# nx.write_gexf(G_morning,\"data/timeperiod/NYCTAXI_OD_Morning.gexf\")\n",
    "# nx.write_gexf(G_noon,\"data/timeperiod/NYCTAXI_OD_Noon.gexf\")\n",
    "# nx.write_gexf(G_afternoon,\"data/timeperiod/NYCTAXI_OD_Afternoon.gexf\")\n",
    "# nx.write_gexf(G_eveningrush,\"data/timeperiod/NYCTAXI_OD_Evening Rush.gexf\")\n",
    "# nx.write_gexf(G_night,\"data/timeperiod/NYCTAXI_OD_Night.gexf\")"
   ]
  },
  {
   "cell_type": "code",
   "execution_count": 13,
   "metadata": {},
   "outputs": [],
   "source": [
    "# 服务器上不可用\n",
    "# stylized_network, config = nw.visualize(G_total, plot_in_cell_below=False)\n",
    "# fig, ax = nw.draw_netwulf(stylized_network, figsize=(10,10))\n",
    "# plt.savefig(\"myfigure.pdf\")"
   ]
  },
  {
   "cell_type": "markdown",
   "metadata": {},
   "source": [
    "# Basic statistics"
   ]
  },
  {
   "cell_type": "code",
   "execution_count": 20,
   "metadata": {
    "notebookRunGroups": {
     "groupValue": "2"
    }
   },
   "outputs": [],
   "source": [
    "def get_network_statistics(G):\n",
    "    # 基本统计量\n",
    "    num_nodes = G.number_of_nodes()  # 节点数量\n",
    "    num_edges = G.number_of_edges()  # 边数量\n",
    "\n",
    "    # 平均度\n",
    "    avg_degree = sum(dict(G.degree()).values()) / num_nodes\n",
    "\n",
    "    in_degrees = [deg for node, deg in G.in_degree()]\n",
    "    out_degrees = [deg for node, deg in G.out_degree()]\n",
    "    avg_in_degree = sum(in_degrees) / len(in_degrees)\n",
    "    avg_out_degree = sum(out_degrees) / len(out_degrees)\n",
    "\n",
    "    # Hubs（度数最高的节点）\n",
    "    degree_dict = dict(G.degree())\n",
    "    hubs = [node for node, degree in degree_dict.items() if degree == max(degree_dict.values())]\n",
    "\n",
    "    # 最短路径长度\n",
    "    shortest_path_lengths = dict(nx.shortest_path_length(G))\n",
    "\n",
    "    # 直径（最长的最短路径长度）\n",
    "    try:\n",
    "        diameter = nx.diameter(G)\n",
    "    except:\n",
    "        diameter = \"Network is not connected.\"\n",
    "\n",
    "    return {\n",
    "        \"Number of nodes\": num_nodes,\n",
    "        \"Number of edges\": num_edges,\n",
    "        \"Average degree\": avg_degree,\n",
    "        \"Average inout-degree\": avg_in_degree,\n",
    "        \"Hubs\": hubs,\n",
    "        # \"Shortest path lengths\": shortest_path_lengths,\n",
    "        \"Diameter\": diameter\n",
    "    }\n",
    "\n",
    "def print_statistics(G):\n",
    "    print(\"-\"*45)\n",
    "    stats = get_network_statistics(G)\n",
    "    for key, value in stats.items():\n",
    "        print(f\"{key}: {value}\")"
   ]
  },
  {
   "cell_type": "code",
   "execution_count": 21,
   "metadata": {},
   "outputs": [
    {
     "name": "stdout",
     "output_type": "stream",
     "text": [
      "---------------------------------------------\n",
      "Number of nodes: 263\n",
      "Number of edges: 25971\n",
      "Average degree: 197.49809885931558\n",
      "Average inout-degree: 98.74904942965779\n",
      "Hubs: [131.0]\n",
      "Diameter: Network is not connected.\n",
      "---------------------------------------------\n",
      "Number of nodes: 263\n",
      "Number of edges: 10225\n",
      "Average degree: 77.75665399239544\n",
      "Average inout-degree: 38.87832699619772\n",
      "Hubs: [131.0]\n",
      "Diameter: Network is not connected.\n",
      "---------------------------------------------\n",
      "Number of nodes: 263\n",
      "Number of edges: 12728\n",
      "Average degree: 96.79087452471482\n",
      "Average inout-degree: 48.39543726235741\n",
      "Hubs: [131.0]\n",
      "Diameter: Network is not connected.\n",
      "---------------------------------------------\n",
      "Number of nodes: 263\n",
      "Number of edges: 11169\n",
      "Average degree: 84.93536121673004\n",
      "Average inout-degree: 42.46768060836502\n",
      "Hubs: [131.0]\n",
      "Diameter: Network is not connected.\n",
      "---------------------------------------------\n",
      "Number of nodes: 263\n",
      "Number of edges: 11717\n",
      "Average degree: 89.10266159695817\n",
      "Average inout-degree: 44.551330798479086\n",
      "Hubs: [131.0]\n",
      "Diameter: Network is not connected.\n",
      "---------------------------------------------\n",
      "Number of nodes: 263\n",
      "Number of edges: 10116\n",
      "Average degree: 76.92775665399239\n",
      "Average inout-degree: 38.463878326996195\n",
      "Hubs: [131.0]\n",
      "Diameter: Network is not connected.\n",
      "---------------------------------------------\n",
      "Number of nodes: 263\n",
      "Number of edges: 20091\n",
      "Average degree: 152.7832699619772\n",
      "Average inout-degree: 76.3916349809886\n",
      "Hubs: [131.0]\n",
      "Diameter: Network is not connected.\n"
     ]
    }
   ],
   "source": [
    "print_statistics(G_total)\n",
    "print_statistics(G_morningrush)\n",
    "print_statistics(G_morning)\n",
    "print_statistics(G_noon)\n",
    "print_statistics(G_afternoon)\n",
    "print_statistics(G_eveningrush)\n",
    "print_statistics(G_night)"
   ]
  },
  {
   "cell_type": "markdown",
   "metadata": {},
   "source": [
    "# Structure"
   ]
  },
  {
   "cell_type": "markdown",
   "metadata": {},
   "source": [
    "在有向图中，节点i的聚类系数定义为所有可能的有向三元组（即i -> j, j -> k, k -> i）的比例，其中j和k是i的邻居。一个有向三元组是一个节点对的有序三元组。\n",
    "\n",
    "nx.average_clustering()函数默认会将有向图视为无向图进行计算。如果你想要计算有向图的聚类系数，需要将count_zeros参数设置为False"
   ]
  },
  {
   "cell_type": "code",
   "execution_count": null,
   "metadata": {},
   "outputs": [],
   "source": [
    "avg_clustering = nx.average_clustering(G, count_zeros=False)\n",
    "avg_clustering"
   ]
  }
 ],
 "metadata": {
  "kernelspec": {
   "display_name": "Python 3",
   "language": "python",
   "name": "python3"
  },
  "language_info": {
   "codemirror_mode": {
    "name": "ipython",
    "version": 3
   },
   "file_extension": ".py",
   "mimetype": "text/x-python",
   "name": "python",
   "nbconvert_exporter": "python",
   "pygments_lexer": "ipython3",
   "version": "3.10.12"
  }
 },
 "nbformat": 4,
 "nbformat_minor": 2
}

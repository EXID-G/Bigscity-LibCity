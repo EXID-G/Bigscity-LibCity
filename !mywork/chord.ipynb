{
 "cells": [
  {
   "cell_type": "code",
   "execution_count": 9,
   "metadata": {},
   "outputs": [],
   "source": [
    "import pandas as pd\n",
    "from d3blocks import D3Blocks"
   ]
  },
  {
   "cell_type": "code",
   "execution_count": 10,
   "metadata": {},
   "outputs": [],
   "source": [
    "df_total = pd.read_csv(\"data/total/NYCTAXI_OD_Total.csv\")\n",
    "\n",
    "df_earlymorning = pd.read_csv(\"data/timeperiod/NYCTAXI_OD_Early Morning.csv\")\n",
    "df_morningrush = pd.read_csv(\"data/timeperiod/NYCTAXI_OD_Morning Rush.csv\")\n",
    "df_morningtonoon = pd.read_csv(\"data/timeperiod/NYCTAXI_OD_Morning to Noon.csv\")\n",
    "df_afternoon = pd.read_csv(\"data/timeperiod/NYCTAXI_OD_Afternoon.csv\")\n",
    "df_eveningrush = pd.read_csv(\"data/timeperiod/NYCTAXI_OD_Evening Rush.csv\")\n",
    "df_night = pd.read_csv(\"data/timeperiod/NYCTAXI_OD_Night.csv\")"
   ]
  },
  {
   "cell_type": "code",
   "execution_count": 11,
   "metadata": {},
   "outputs": [],
   "source": [
    "df_total.rename(columns={\"origin_id\":\"source\",\"destination_id\":\"target\",\"flow\":\"weight\"}, inplace=True)\n",
    "\n",
    "df_earlymorning.rename(columns={\"origin_id\":\"source\",\"destination_id\":\"target\",\"flow\":\"weight\"}, inplace=True)\n",
    "df_morningrush.rename(columns={\"origin_id\":\"source\",\"destination_id\":\"target\",\"flow\":\"weight\"}, inplace=True)\n",
    "df_morningtonoon.rename(columns={\"origin_id\":\"source\",\"destination_id\":\"target\",\"flow\":\"weight\"}, inplace=True)\n",
    "df_afternoon.rename(columns={\"origin_id\":\"source\",\"destination_id\":\"target\",\"flow\":\"weight\"}, inplace=True)\n",
    "df_eveningrush.rename(columns={\"origin_id\":\"source\",\"destination_id\":\"target\",\"flow\":\"weight\"}, inplace=True)\n",
    "df_night.rename(columns={\"origin_id\":\"source\",\"destination_id\":\"target\",\"flow\":\"weight\"}, inplace=True)\n",
    "\n",
    "# df_earlymorning.drop([\"Unnamed: 0\"], axis=1, inplace=True)\n",
    "# df_morningrush.drop([\"Unnamed: 0\"], axis=1, inplace=True)\n",
    "# df_morningtonoon.drop([\"Unnamed: 0\"], axis=1, inplace=True)\n",
    "# df_afternoon.drop([\"Unnamed: 0\"], axis=1, inplace=True)\n",
    "# df_eveningrush.drop([\"Unnamed: 0\"], axis=1, inplace=True)\n",
    "# df_night.drop([\"Unnamed: 0\"], axis=1, inplace=True)"
   ]
  },
  {
   "cell_type": "code",
   "execution_count": 13,
   "metadata": {},
   "outputs": [
    {
     "data": {
      "text/html": [
       "<div>\n",
       "<style scoped>\n",
       "    .dataframe tbody tr th:only-of-type {\n",
       "        vertical-align: middle;\n",
       "    }\n",
       "\n",
       "    .dataframe tbody tr th {\n",
       "        vertical-align: top;\n",
       "    }\n",
       "\n",
       "    .dataframe thead th {\n",
       "        text-align: right;\n",
       "    }\n",
       "</style>\n",
       "<table border=\"1\" class=\"dataframe\">\n",
       "  <thead>\n",
       "    <tr style=\"text-align: right;\">\n",
       "      <th></th>\n",
       "      <th>source</th>\n",
       "      <th>target</th>\n",
       "      <th>weight</th>\n",
       "    </tr>\n",
       "  </thead>\n",
       "  <tbody>\n",
       "    <tr>\n",
       "      <th>3436</th>\n",
       "      <td>42</td>\n",
       "      <td>141</td>\n",
       "      <td>3.733394</td>\n",
       "    </tr>\n",
       "    <tr>\n",
       "      <th>3449</th>\n",
       "      <td>42</td>\n",
       "      <td>160</td>\n",
       "      <td>4.363262</td>\n",
       "    </tr>\n",
       "    <tr>\n",
       "      <th>3451</th>\n",
       "      <td>42</td>\n",
       "      <td>162</td>\n",
       "      <td>2.419148</td>\n",
       "    </tr>\n",
       "    <tr>\n",
       "      <th>3491</th>\n",
       "      <td>42</td>\n",
       "      <td>229</td>\n",
       "      <td>2.371507</td>\n",
       "    </tr>\n",
       "    <tr>\n",
       "      <th>3497</th>\n",
       "      <td>42</td>\n",
       "      <td>235</td>\n",
       "      <td>3.901970</td>\n",
       "    </tr>\n",
       "    <tr>\n",
       "      <th>...</th>\n",
       "      <td>...</td>\n",
       "      <td>...</td>\n",
       "      <td>...</td>\n",
       "    </tr>\n",
       "    <tr>\n",
       "      <th>25947</th>\n",
       "      <td>262</td>\n",
       "      <td>235</td>\n",
       "      <td>8.233623</td>\n",
       "    </tr>\n",
       "    <tr>\n",
       "      <th>25948</th>\n",
       "      <td>262</td>\n",
       "      <td>236</td>\n",
       "      <td>5.075126</td>\n",
       "    </tr>\n",
       "    <tr>\n",
       "      <th>25949</th>\n",
       "      <td>262</td>\n",
       "      <td>237</td>\n",
       "      <td>2.019698</td>\n",
       "    </tr>\n",
       "    <tr>\n",
       "      <th>25950</th>\n",
       "      <td>262</td>\n",
       "      <td>238</td>\n",
       "      <td>2.310124</td>\n",
       "    </tr>\n",
       "    <tr>\n",
       "      <th>25970</th>\n",
       "      <td>262</td>\n",
       "      <td>261</td>\n",
       "      <td>3.509391</td>\n",
       "    </tr>\n",
       "  </tbody>\n",
       "</table>\n",
       "<p>404 rows × 3 columns</p>\n",
       "</div>"
      ],
      "text/plain": [
       "       source  target    weight\n",
       "3436       42     141  3.733394\n",
       "3449       42     160  4.363262\n",
       "3451       42     162  2.419148\n",
       "3491       42     229  2.371507\n",
       "3497       42     235  3.901970\n",
       "...       ...     ...       ...\n",
       "25947     262     235  8.233623\n",
       "25948     262     236  5.075126\n",
       "25949     262     237  2.019698\n",
       "25950     262     238  2.310124\n",
       "25970     262     261  3.509391\n",
       "\n",
       "[404 rows x 3 columns]"
      ]
     },
     "execution_count": 13,
     "metadata": {},
     "output_type": "execute_result"
    }
   ],
   "source": [
    "df_total[df_total[\"weight\"]>2]"
   ]
  },
  {
   "cell_type": "code",
   "execution_count": 14,
   "metadata": {},
   "outputs": [
    {
     "data": {
      "text/plain": [
       "weight\n",
       "0.503925       1\n",
       "0.648352       1\n",
       "2.379906       1\n",
       "0.868132       1\n",
       "5.792779       1\n",
       "            ... \n",
       "0.007849     488\n",
       "0.006279     654\n",
       "0.004710    1096\n",
       "0.003140    2050\n",
       "0.001570    5095\n",
       "Name: count, Length: 670, dtype: int64"
      ]
     },
     "execution_count": 14,
     "metadata": {},
     "output_type": "execute_result"
    }
   ],
   "source": [
    "df_earlymorning[\"weight\"].value_counts().sort_values()"
   ]
  },
  {
   "cell_type": "code",
   "execution_count": 16,
   "metadata": {},
   "outputs": [
    {
     "name": "stderr",
     "output_type": "stream",
     "text": [
      "[d3blocks] >INFO> Cleaning edge_properties and config parameters..\n",
      "[d3blocks] >INFO> Initializing [Chord]\n",
      "[d3blocks] >INFO> filepath is set to [C:\\Users\\34071\\AppData\\Local\\Temp\\d3blocks\\chord.html]\n",
      "[d3blocks] >INFO> Cleaning edge_properties and config parameters..\n",
      "[d3blocks] >INFO> Initializing [Chord]\n",
      "[d3blocks] >INFO> filepath is set to [d:\\profession\\2024S\\数据科学实践\\project\\Bigscity-LibCity\\!mywork\\output\\chord\\total.html]\n",
      "[d3blocks] >INFO> Convert to DataFrame.\n",
      "[d3blocks] >INFO> Node properties are set.\n",
      "[d3blocks] >INFO> Set edge-opacity based on the [source] node-opacity.\n",
      "[d3blocks] >INFO> Set edge-colors based on the [source] node-color.\n",
      "[d3blocks] >INFO> Edge properties are set.\n",
      "[d3blocks] >INFO> File already exists and will be overwritten: [d:\\profession\\2024S\\数据科学实践\\project\\Bigscity-LibCity\\!mywork\\output\\chord\\total.html]\n",
      "[d3blocks] >INFO> Open browser: d:\\profession\\2024S\\数据科学实践\\project\\Bigscity-LibCity\\!mywork\\output\\chord\\total.html\n"
     ]
    }
   ],
   "source": [
    "d3 = D3Blocks(chart=\"Chord\")\n",
    "threshold = 3\n",
    "\n",
    "d3.chord(df_total[df_total[\"weight\"]>threshold],filepath=\"output/chord/total.html\",title=\"chord_Total\",save_button=False,ordering=\"asending\")\n",
    "\n",
    "# d3.chord(df_earlymorning[df_earlymorning[\"weight\"]>threshold],filepath=\"output/chord/earlymorning.html\",title=\"chord_earlymorning\",save_button=False,ordering=\"asending\")\n",
    "# d3.chord(df_morningrush[df_morningrush[\"weight\"]>1.1],filepath=\"output/chord/morningrush.html\",title=\"chord_morningrush\",save_button=False,ordering=\"asending\")\n",
    "# d3.chord(df_morningtonoon[df_morningtonoon[\"weight\"]>threshold],filepath=\"output/chord/morningtonoon.html\",title=\"chord_morningtonoon\",save_button=False,ordering=\"asending\")\n",
    "# d3.chord(df_afternoon[df_afternoon[\"weight\"]>threshold],filepath=\"output/chord/afternoon.html\",title=\"chord_afternoon\",save_button=False,ordering=\"asending\")\n",
    "# d3.chord(df_eveningrush[df_eveningrush[\"weight\"]>threshold],filepath=\"output/chord/eveningrush.html\",title=\"chord_eveningrush\",save_button=False,ordering=\"asending\")\n",
    "# d3.chord(df_night[df_night[\"weight\"]>threshold],filepath=\"output/chord/night.html\",title=\"chord_night\",save_button=False,ordering=\"asending\")"
   ]
  }
 ],
 "metadata": {
  "kernelspec": {
   "display_name": "base",
   "language": "python",
   "name": "python3"
  },
  "language_info": {
   "codemirror_mode": {
    "name": "ipython",
    "version": 3
   },
   "file_extension": ".py",
   "mimetype": "text/x-python",
   "name": "python",
   "nbconvert_exporter": "python",
   "pygments_lexer": "ipython3",
   "version": "3.11.5"
  }
 },
 "nbformat": 4,
 "nbformat_minor": 2
}
